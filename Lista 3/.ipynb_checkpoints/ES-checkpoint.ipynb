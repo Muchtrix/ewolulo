{
 "cells": [
  {
   "cell_type": "markdown",
   "metadata": {},
   "source": [
    "## Algorytmy ewolucyjne - Lista 3\n",
    "Wiktor Adamski"
   ]
  },
  {
   "cell_type": "code",
   "execution_count": 1,
   "metadata": {
    "collapsed": true
   },
   "outputs": [],
   "source": [
    "from tqdm import tnrange, tqdm_notebook, tqdm\n",
    "import numpy as np\n",
    "import matplotlib.pyplot as plt\n",
    "import time\n",
    "\n",
    "%matplotlib inline"
   ]
  },
  {
   "cell_type": "code",
   "execution_count": 2,
   "metadata": {
    "collapsed": true
   },
   "outputs": [],
   "source": [
    "def griewank(v): # min @ 0*\n",
    "    return 1 + np.sum((v**2)/4000) - np.prod(np.cos(v)/np.sqrt(np.arange(1, v.size + 1)))"
   ]
  },
  {
   "cell_type": "code",
   "execution_count": 3,
   "metadata": {},
   "outputs": [],
   "source": [
    "def rastrigin(v): # min @ 0*\n",
    "    return 10*v.size + np.sum(v**2 - 10*np.cos(2*np.pi*v))"
   ]
  },
  {
   "cell_type": "code",
   "execution_count": 4,
   "metadata": {
    "collapsed": true
   },
   "outputs": [],
   "source": [
    "def schwefel(v): # min @ 420.9687*\n",
    "    return 418.9829*v.size -np.sum(v*np.sin(np.sqrt(np.abs(v))))"
   ]
  },
  {
   "cell_type": "code",
   "execution_count": 5,
   "metadata": {},
   "outputs": [],
   "source": [
    "def levy(v): # min @ 1*\n",
    "    w = 1 + (v - 1)/4\n",
    "    return np.sin(np.pi*w[0])**2 + (w[v.size - 1] - 1)**2 * (1 + (np.sin(2*np.pi*w[v.size - 1]))**2) + np.sum((w[1:-1] - 1)**2 * (1 + 10*(np.sin(np.pi * w[1:-1] + 1)**2)))"
   ]
  },
  {
   "cell_type": "code",
   "execution_count": 6,
   "metadata": {
    "collapsed": true
   },
   "outputs": [],
   "source": [
    "def powell(v): # v.size % 4 == 0 # min @ 0*\n",
    "    v0 = v[::4]\n",
    "    v1 = v[1::4]\n",
    "    v2 = v[2::4]\n",
    "    v3 = v[3::4]\n",
    "    return np.sum((v0 + 10*v1)**2 + 5*(v2 - v3)**2 + (v1 - 2*v2)**4 + 10*(v0 - v3)**4)"
   ]
  },
  {
   "cell_type": "code",
   "execution_count": 7,
   "metadata": {
    "collapsed": true
   },
   "outputs": [],
   "source": [
    "def evaluate(function, genome_length, population):\n",
    "    return np.apply_along_axis(function, 1, population[:,  :genome_length])\n",
    "\n",
    "def initial_population(population_size, genome_length):\n",
    "    xs = np.random.uniform(-100, 100, (population_size, genome_length))\n",
    "    sigmas = np.random.uniform(-1,1, (population_size, genome_length))\n",
    "    return np.hstack([xs, sigmas])\n",
    "\n",
    "def offspring(population, population_size, genome_length, fitness, offspring_count, crossover_propability):\n",
    "    offs = np.zeros((offspring_count, genome_length*2))\n",
    "    for i in xrange(offspring_count/2):\n",
    "        parents = parent_selection(population, population_size, fitness)\n",
    "        if np.random.rand() <= crossover_propability:\n",
    "            (offs[2*i], offs[2*i + 1]) = crossover(parents[0], parents[1], genome_length)\n",
    "        else:\n",
    "            (offs[2*i], offs[2*i + 1]) = parents\n",
    "    return offs\n",
    "\n",
    "def crossover(p1, p2, genome_length):\n",
    "    o1 = p1.copy()\n",
    "    o2 = p2.copy()\n",
    "    cx_point = np.random.randint(0, genome_length)\n",
    "    o1[cx_point:genome_length] = p2[cx_point:genome_length]\n",
    "    o2[cx_point:genome_length] = p1[cx_point:genome_length]\n",
    "    o1[genome_length + cx_point:] = p2[genome_length + cx_point]\n",
    "    o2[genome_length + cx_point:] = p1[genome_length + cx_point]\n",
    "    return (o1, o2)\n",
    "\n",
    "def parent_selection(population, population_size, fitness):\n",
    "    candidatesInd = np.random.randint(0, population_size, 10)\n",
    "    (srt, srt_ev) = replace_population(population[candidatesInd], fitness[candidatesInd], 2)\n",
    "    return srt\n",
    "\n",
    "def mutation(genome, genome_length, tau, tau0):\n",
    "    eps = np.random.normal(0, tau, genome_length)\n",
    "    eps0 = np.random.normal(0, tau0)\n",
    "    genome[genome_length:] *= np.exp(eps + eps0)\n",
    "    genome[:genome_length] += np.random.normal(0, genome[genome_length:]**2)\n",
    "    return genome\n",
    "    \n",
    "def replace_population(population, evaluation, population_size):\n",
    "    ev_indices = np.argsort(evaluation)\n",
    "    sorted_population = population[ev_indices]\n",
    "    sorted_eval = evaluation[ev_indices]\n",
    "    return (sorted_population[:population_size], sorted_eval[:population_size])\n",
    "\n",
    "def ES(population_size,\n",
    "       offspring_count,\n",
    "       genome_length,\n",
    "       no_of_rounds,\n",
    "       evaluation_function,\n",
    "       crossover_propability,\n",
    "       tau_squared, tau0_squared):\n",
    "    P = initial_population(population_size, genome_length)\n",
    "    ev = evaluate(evaluation_function, genome_length, P)\n",
    "    best_scores = np.zeros(no_of_rounds)\n",
    "    \n",
    "    for round_no in tqdm_notebook(xrange(no_of_rounds)):\n",
    "        Pc = offspring(P, population_size, genome_length, ev, offspring_count, crossover_propability)\n",
    "        Pc = np.apply_along_axis(mutation, 1, Pc, genome_length, tau_squared, tau0_squared)\n",
    "        ev = evaluate(evaluation_function, genome_length, Pc)\n",
    "        (P, ev) = replace_population(Pc, ev, population_size)\n",
    "        best_scores[round_no] = ev[0]\n",
    "    return best_scores\n",
    "\n",
    "def ESplus(population_size,\n",
    "       offspring_count,\n",
    "       genome_length,\n",
    "       no_of_rounds,\n",
    "       evaluation_function,\n",
    "       crossover_propability,\n",
    "       tau_squared, tau0_squared):\n",
    "    P = initial_population(population_size, genome_length)\n",
    "    ev = evaluate(evaluation_function, genome_length, P)\n",
    "    best_scores = np.zeros(no_of_rounds)\n",
    "    \n",
    "    for round_no in tqdm_notebook(xrange(no_of_rounds)):\n",
    "        Pc = offspring(P, population_size, genome_length, ev, offspring_count, crossover_propability)\n",
    "        Pc = np.apply_along_axis(mutation, 1, np.vstack([P, Pc]), genome_length, tau_squared, tau0_squared)\n",
    "        ev = evaluate(evaluation_function, genome_length, Pc)\n",
    "        (P, ev) = replace_population(Pc, ev, population_size)\n",
    "        best_scores[round_no] = ev[0]\n",
    "    return best_scores"
   ]
  },
  {
   "cell_type": "code",
   "execution_count": 8,
   "metadata": {},
   "outputs": [
    {
     "data": {
      "application/vnd.jupyter.widget-view+json": {
       "model_id": "8ee2fdcd797947a2b82f532b9a65a282"
      }
     },
     "metadata": {},
     "output_type": "display_data"
    },
    {
     "name": "stdout",
     "output_type": "stream",
     "text": [
      "\n"
     ]
    },
    {
     "data": {
      "application/vnd.jupyter.widget-view+json": {
       "model_id": "18349d843ed94e5d8bb43242eea800fc"
      }
     },
     "metadata": {},
     "output_type": "display_data"
    },
    {
     "name": "stdout",
     "output_type": "stream",
     "text": [
      "\n"
     ]
    }
   ],
   "source": [
    "e = ES(100, 200, 100, 10000, rastrigin, 0.99, 0.10, 0.20)\n",
    "ep = ESplus(100, 200, 100, 10000, rastrigin, 0.99, 0.10, 0.20)"
   ]
  },
  {
   "cell_type": "code",
   "execution_count": 9,
   "metadata": {},
   "outputs": [
    {
     "data": {
      "image/png": "[encoded data removed]",
      "text/plain": [
       "<matplotlib.figure.Figure at 0x7fced88b3c50>"
      ]
     },
     "metadata": {},
     "output_type": "display_data"
    }
   ],
   "source": [
    "a = np.arange(10)\n",
    "\n",
    "plt.figure(figsize=(15,10))\n",
    "plt.plot(e, label='ES(mi,lambda)')\n",
    "plt.plot(ep, label='ES(mi+lambda)')\n",
    "plt.legend()\n",
    "plt.show()"
   ]
  }
 ],
 "metadata": {
  "kernelspec": {
   "display_name": "Python 2",
   "language": "python",
   "name": "python2"
  },
  "language_info": {
   "codemirror_mode": {
    "name": "ipython",
    "version": 2
   },
   "file_extension": ".py",
   "mimetype": "text/x-python",
   "name": "python",
   "nbconvert_exporter": "python",
   "pygments_lexer": "ipython2",
   "version": "2.7.13"
  }
 },
 "nbformat": 4,
 "nbformat_minor": 2
}
