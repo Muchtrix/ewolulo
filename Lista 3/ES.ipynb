{
 "cells": [
  {
   "cell_type": "markdown",
   "metadata": {},
   "source": [
    "## Algorytmy ewolucyjne - Lista 3\n",
    "Wiktor Adamski"
   ]
  },
  {
   "cell_type": "code",
   "execution_count": 11,
   "metadata": {
    "collapsed": true
   },
   "outputs": [],
   "source": [
    "from tqdm import tnrange, tqdm_notebook, tqdm\n",
    "import numpy as np\n",
    "import matplotlib.pyplot as plt\n",
    "import time\n",
    "\n",
    "%matplotlib inline"
   ]
  },
  {
   "cell_type": "code",
   "execution_count": 12,
   "metadata": {
    "collapsed": true
   },
   "outputs": [],
   "source": [
    "def griewank(v): # min @ 0*\n",
    "    return 1 + np.sum((v**2)/4000) - np.prod(np.cos(v/np.sqrt(np.arange(1, v.size + 1))))"
   ]
  },
  {
   "cell_type": "code",
   "execution_count": 13,
   "metadata": {
    "collapsed": true
   },
   "outputs": [],
   "source": [
    "def rastrigin(v): # min @ 0*\n",
    "    return 10*v.size + np.sum(v**2 - 10*np.cos(2*np.pi*v))"
   ]
  },
  {
   "cell_type": "code",
   "execution_count": 14,
   "metadata": {
    "collapsed": true
   },
   "outputs": [],
   "source": [
    "def schwefel(v): # min @ 420.9687*\n",
    "    return 418.9829*v.size -np.sum(v*np.sin(np.sqrt(np.abs(v))))"
   ]
  },
  {
   "cell_type": "code",
   "execution_count": 15,
   "metadata": {
    "collapsed": true
   },
   "outputs": [],
   "source": [
    "def levy(v): # min @ 1*\n",
    "    w = 1 + (v - 1)/4\n",
    "    return np.sin(np.pi*w[0])**2 + (w[v.size - 1] - 1)**2 * (1 + (np.sin(2*np.pi*w[v.size - 1]))**2) + np.sum((w[1:-1] - 1)**2 * (1 + 10*(np.sin(np.pi * w[1:-1] + 1)**2)))"
   ]
  },
  {
   "cell_type": "code",
   "execution_count": 16,
   "metadata": {
    "collapsed": true
   },
   "outputs": [],
   "source": [
    "def powell(v): # v.size % 4 == 0 # min @ 0*\n",
    "    v0 = v[::4]\n",
    "    v1 = v[1::4]\n",
    "    v2 = v[2::4]\n",
    "    v3 = v[3::4]\n",
    "    return np.sum((v0 + 10*v1)**2 + 5*(v2 - v3)**2 + (v1 - 2*v2)**4 + 10*(v0 - v3)**4)"
   ]
  },
  {
   "cell_type": "code",
   "execution_count": 17,
   "metadata": {
    "collapsed": true
   },
   "outputs": [],
   "source": [
    "def evaluate(function, genome_length, population):\n",
    "    return np.apply_along_axis(function, 1, population[:,  :genome_length])\n",
    "\n",
    "def initial_population(population_size, genome_length, mi, ma):\n",
    "    xs = np.random.uniform(mi, ma, (population_size, genome_length))\n",
    "    \n",
    "    sigmas = np.full((population_size, genome_length), 1)\n",
    "    #sigmas = np.random.uniform(-1,1, (population_size, genome_length))\n",
    "    return np.hstack([xs, sigmas])\n",
    "\n",
    "def offspring(population, population_size, genome_length, fitness, offspring_count, crossover_propability):\n",
    "    offs = np.zeros((offspring_count, genome_length*2))\n",
    "    for i in xrange(offspring_count/2):\n",
    "        parents = parent_selection(population, population_size, fitness)\n",
    "        if np.random.rand() <= crossover_propability:\n",
    "            (offs[2*i], offs[2*i + 1]) = crossover(parents[0], parents[1], genome_length)\n",
    "        else:\n",
    "            (offs[2*i], offs[2*i + 1]) = parents\n",
    "    return offs\n",
    "\n",
    "def crossover(p1, p2, genome_length):\n",
    "    o1 = p1.copy()\n",
    "    o2 = p2.copy()\n",
    "    cx_point = np.random.randint(0, genome_length)\n",
    "    o1[cx_point:genome_length] = p2[cx_point:genome_length]\n",
    "    o2[cx_point:genome_length] = p1[cx_point:genome_length]\n",
    "    o1[genome_length + cx_point:] = p2[genome_length + cx_point]\n",
    "    o2[genome_length + cx_point:] = p1[genome_length + cx_point]\n",
    "    return (o1, o2)\n",
    "\n",
    "def parent_selection(population, population_size, fitness):\n",
    "    candidatesInd = np.random.randint(0, population_size, 10)\n",
    "    (srt, srt_ev) = replace_population(population[candidatesInd], fitness[candidatesInd], 2)\n",
    "    return srt\n",
    "\n",
    "def mutation(genome, genome_length, tau, tau0):\n",
    "    eps = np.random.normal(0, tau, genome_length)\n",
    "    eps0 = np.random.normal(0, tau0)\n",
    "    genome[genome_length:] *= np.exp(eps + eps0)\n",
    "    genome[:genome_length] += np.random.normal(0, genome[genome_length:]**2)\n",
    "    return genome\n",
    "    \n",
    "def replace_population(population, evaluation, population_size):\n",
    "    ev_indices = np.argsort(evaluation)\n",
    "    sorted_population = population[ev_indices]\n",
    "    sorted_eval = evaluation[ev_indices]\n",
    "    return (sorted_population[:population_size], sorted_eval[:population_size])\n",
    "\n",
    "def ES(population_size,\n",
    "       offspring_count,\n",
    "       genome_length,\n",
    "       no_of_rounds,\n",
    "       evaluation_function,\n",
    "       crossover_propability,\n",
    "       tau_squared, tau0_squared,\n",
    "       mi = -100, ma = -100):\n",
    "    P = initial_population(population_size, genome_length, mi, ma)\n",
    "    ev = evaluate(evaluation_function, genome_length, P)\n",
    "    best_scores = np.zeros(no_of_rounds)\n",
    "    \n",
    "    for round_no in tqdm_notebook(xrange(no_of_rounds), leave = False):\n",
    "        Pc = offspring(P, population_size, genome_length, ev, offspring_count, crossover_propability)\n",
    "        Pc = np.apply_along_axis(mutation, 1, Pc, genome_length, tau_squared, tau0_squared)\n",
    "        ev = evaluate(evaluation_function, genome_length, Pc)\n",
    "        (P, ev) = replace_population(Pc, ev, population_size)\n",
    "        best_scores[round_no] = ev[0]\n",
    "    return best_scores\n",
    "\n",
    "def ESplus(population_size,\n",
    "       offspring_count,\n",
    "       genome_length,\n",
    "       no_of_rounds,\n",
    "       evaluation_function,\n",
    "       crossover_propability,\n",
    "       tau_squared, tau0_squared,\n",
    "       mi = -100, ma = -100):\n",
    "    P = initial_population(population_size, genome_length, mi, ma)\n",
    "    ev = evaluate(evaluation_function, genome_length, P)\n",
    "    best_scores = np.zeros(no_of_rounds)\n",
    "    \n",
    "    for round_no in tqdm_notebook(xrange(no_of_rounds), leave = False):\n",
    "        Pc = offspring(P, population_size, genome_length, ev, offspring_count, crossover_propability)\n",
    "        Pc = np.apply_along_axis(mutation, 1, np.vstack([P, Pc]), genome_length, tau_squared, tau0_squared)\n",
    "        ev = evaluate(evaluation_function, genome_length, Pc)\n",
    "        (P, ev) = replace_population(Pc, ev, population_size)\n",
    "        best_scores[round_no] = ev[0]\n",
    "    return best_scores"
   ]
  },
  {
   "cell_type": "code",
   "execution_count": 18,
   "metadata": {
    "collapsed": true
   },
   "outputs": [],
   "source": [
    "def sim_ann(T = 500000,\n",
    "        radius = 1,\n",
    "        alpha = 1.0,\n",
    "        objective = griewank,\n",
    "        genome_length = 100,\n",
    "        mi = -100, ma = 100):\n",
    "    p = np.random.uniform(mi, ma, genome_length)\n",
    "    p_cost = objective(p)\n",
    "    costs = np.zeros(T)\n",
    "    for t in tqdm_notebook(xrange(T), leave = False):\n",
    "        q = p + np.random.uniform(-radius, radius, genome_length)\n",
    "        q_cost = objective(q)\n",
    "        if(q_cost < p_cost):\n",
    "            p, p_cost = q, q_cost\n",
    "        elif(np.random.rand() < np.exp(- alpha * (q_cost - p_cost) * t/T)):\n",
    "            p, p_cost = q, q_cost\n",
    "        costs[t] = p_cost\n",
    "    return costs"
   ]
  },
  {
   "cell_type": "markdown",
   "metadata": {},
   "source": [
    "## Griewank function"
   ]
  },
  {
   "cell_type": "code",
   "execution_count": 60,
   "metadata": {},
   "outputs": [
    {
     "data": {
      "application/vnd.jupyter.widget-view+json": {
       "model_id": "532ff2e9d2d04313b26ff8f605f82904"
      }
     },
     "metadata": {},
     "output_type": "display_data"
    },
    {
     "name": "stdout",
     "output_type": "stream",
     "text": [
      "\r"
     ]
    },
    {
     "data": {
      "application/vnd.jupyter.widget-view+json": {
       "model_id": "ee722cad607b418b9b568669830c0a7d"
      }
     },
     "metadata": {},
     "output_type": "display_data"
    },
    {
     "name": "stdout",
     "output_type": "stream",
     "text": [
      "\r"
     ]
    },
    {
     "data": {
      "image/png": "[encoded data removed]",
      "text/plain": [
       "<matplotlib.figure.Figure at 0x7f715bd26ed0>"
      ]
     },
     "metadata": {},
     "output_type": "display_data"
    },
    {
     "name": "stdout",
     "output_type": "stream",
     "text": [
      "0.0656713295987 0.070903451214\n"
     ]
    }
   ],
   "source": [
    "e = ES(100, 200, 100, 1000, griewank, 0.75, 3, 0.7, -600, 600)\n",
    "ep = ESplus(100, 200, 100, 1000, griewank, 0.75, 3, 0.7, -600, 600)\n",
    "\n",
    "plt.figure(figsize=(15,10))\n",
    "plt.plot(e, label='ES(mi,lambda)')\n",
    "plt.plot(ep, label='ES(mi+lambda)')\n",
    "plt.legend()\n",
    "plt.show()\n",
    "print e.min(), ep.min()"
   ]
  },
  {
   "cell_type": "code",
   "execution_count": 61,
   "metadata": {},
   "outputs": [
    {
     "data": {
      "application/vnd.jupyter.widget-view+json": {
       "model_id": "62c181f58eb945c8bce0f7403b88bca3"
      }
     },
     "metadata": {},
     "output_type": "display_data"
    },
    {
     "name": "stdout",
     "output_type": "stream",
     "text": [
      "\n"
     ]
    },
    {
     "data": {
      "image/png": "[encoded data removed]",
      "text/plain": [
       "<matplotlib.figure.Figure at 0x7f7168143ad0>"
      ]
     },
     "metadata": {},
     "output_type": "display_data"
    }
   ],
   "source": [
    "no_of_probes = (300 * 1000)\n",
    "random_sampling = np.zeros(no_of_probes)\n",
    "\n",
    "for i in tqdm_notebook(xrange(no_of_probes)):\n",
    "    random_sampling[i] = griewank(np.random.uniform(-600, 600, 100))\n",
    "\n",
    "plt.figure(figsize=(15, 10))\n",
    "plt.hist(random_sampling)\n",
    "plt.show()"
   ]
  },
  {
   "cell_type": "code",
   "execution_count": null,
   "metadata": {},
   "outputs": [
    {
     "data": {
      "application/vnd.jupyter.widget-view+json": {
       "model_id": "845a19c30e9543928b96a1373ca09e56"
      }
     },
     "metadata": {},
     "output_type": "display_data"
    },
    {
     "data": {
      "application/vnd.jupyter.widget-view+json": {
       "model_id": "06dd4626b180471cbba3805659eff88e"
      }
     },
     "metadata": {},
     "output_type": "display_data"
    },
    {
     "data": {
      "application/vnd.jupyter.widget-view+json": {
       "model_id": "86821852ca0141b29a9839d74a59934f"
      }
     },
     "metadata": {},
     "output_type": "display_data"
    },
    {
     "data": {
      "application/vnd.jupyter.widget-view+json": {
       "model_id": "163be4e9902c43faa8a3d1ce2fe28cc6"
      }
     },
     "metadata": {},
     "output_type": "display_data"
    },
    {
     "data": {
      "application/vnd.jupyter.widget-view+json": {
       "model_id": "81fc23ba4665433b9e9025855196ce5c"
      }
     },
     "metadata": {},
     "output_type": "display_data"
    },
    {
     "data": {
      "application/vnd.jupyter.widget-view+json": {
       "model_id": "49510383e2344c448e207d8349418301"
      }
     },
     "metadata": {},
     "output_type": "display_data"
    },
    {
     "data": {
      "application/vnd.jupyter.widget-view+json": {
       "model_id": "7c06370e9aa3428183db41a009b2f339"
      }
     },
     "metadata": {},
     "output_type": "display_data"
    },
    {
     "data": {
      "application/vnd.jupyter.widget-view+json": {
       "model_id": "cd6b6f194d0f40248c7c6c5362ef8040"
      }
     },
     "metadata": {},
     "output_type": "display_data"
    },
    {
     "data": {
      "application/vnd.jupyter.widget-view+json": {
       "model_id": "c3d74028b6634fe3a6ea4037aa1b36d8"
      }
     },
     "metadata": {},
     "output_type": "display_data"
    },
    {
     "data": {
      "application/vnd.jupyter.widget-view+json": {
       "model_id": "727bea24a5e6489997f4d18407c203be"
      }
     },
     "metadata": {},
     "output_type": "display_data"
    },
    {
     "data": {
      "application/vnd.jupyter.widget-view+json": {
       "model_id": "2a911b915e6e4ef6a9cd41d6d50dfe7c"
      }
     },
     "metadata": {},
     "output_type": "display_data"
    },
    {
     "data": {
      "application/vnd.jupyter.widget-view+json": {
       "model_id": "1403c77c7b184b9e87c87ed24e95799a"
      }
     },
     "metadata": {},
     "output_type": "display_data"
    },
    {
     "data": {
      "application/vnd.jupyter.widget-view+json": {
       "model_id": "a03dcd5cf66243818ea615e1056f3cbb"
      }
     },
     "metadata": {},
     "output_type": "display_data"
    },
    {
     "data": {
      "application/vnd.jupyter.widget-view+json": {
       "model_id": "f4257f925d634d4da37446f141e907a3"
      }
     },
     "metadata": {},
     "output_type": "display_data"
    },
    {
     "data": {
      "application/vnd.jupyter.widget-view+json": {
       "model_id": "d4aca51a5e4141ba990dec472bf577a9"
      }
     },
     "metadata": {},
     "output_type": "display_data"
    },
    {
     "data": {
      "application/vnd.jupyter.widget-view+json": {
       "model_id": "39b497674cc44646979369529499720b"
      }
     },
     "metadata": {},
     "output_type": "display_data"
    },
    {
     "data": {
      "application/vnd.jupyter.widget-view+json": {
       "model_id": "83b7008607484025b61cc7467ef2558c"
      }
     },
     "metadata": {},
     "output_type": "display_data"
    },
    {
     "data": {
      "application/vnd.jupyter.widget-view+json": {
       "model_id": "fbcd7b60ea0b4ac2962ec3a512f5c664"
      }
     },
     "metadata": {},
     "output_type": "display_data"
    },
    {
     "data": {
      "application/vnd.jupyter.widget-view+json": {
       "model_id": "dc7f1b447c5144628264475ac9118469"
      }
     },
     "metadata": {},
     "output_type": "display_data"
    },
    {
     "data": {
      "application/vnd.jupyter.widget-view+json": {
       "model_id": "a55b5906f1be4b09a803869482e4f70b"
      }
     },
     "metadata": {},
     "output_type": "display_data"
    },
    {
     "data": {
      "application/vnd.jupyter.widget-view+json": {
       "model_id": "45c380d8d8c343278540f602a6af6090"
      }
     },
     "metadata": {},
     "output_type": "display_data"
    },
    {
     "data": {
      "application/vnd.jupyter.widget-view+json": {
       "model_id": "cf329576d2fd4ab0b98393e2d7db6211"
      }
     },
     "metadata": {},
     "output_type": "display_data"
    },
    {
     "data": {
      "application/vnd.jupyter.widget-view+json": {
       "model_id": "7260044ec1b1464bb25f485b1168e9f4"
      }
     },
     "metadata": {},
     "output_type": "display_data"
    },
    {
     "data": {
      "application/vnd.jupyter.widget-view+json": {
       "model_id": "26ff0f8e5f51496481771f1c4d26f302"
      }
     },
     "metadata": {},
     "output_type": "display_data"
    },
    {
     "data": {
      "application/vnd.jupyter.widget-view+json": {
       "model_id": "d1ac8966d29a4531ab1f5e5264585ca2"
      }
     },
     "metadata": {},
     "output_type": "display_data"
    },
    {
     "data": {
      "application/vnd.jupyter.widget-view+json": {
       "model_id": "6c117577f98f4235b11c01e9c46d5fa1"
      }
     },
     "metadata": {},
     "output_type": "display_data"
    },
    {
     "data": {
      "application/vnd.jupyter.widget-view+json": {
       "model_id": "474970a2abed49129693e1ceabe783de"
      }
     },
     "metadata": {},
     "output_type": "display_data"
    },
    {
     "data": {
      "application/vnd.jupyter.widget-view+json": {
       "model_id": "def1b95dcbdc44c987f3a25a1c877faf"
      }
     },
     "metadata": {},
     "output_type": "display_data"
    },
    {
     "data": {
      "application/vnd.jupyter.widget-view+json": {
       "model_id": "186ef13191ef42099c651edd2e3972a8"
      }
     },
     "metadata": {},
     "output_type": "display_data"
    },
    {
     "data": {
      "application/vnd.jupyter.widget-view+json": {
       "model_id": "5b2b8db0f9dc4bf0a71426e89c37bcc1"
      }
     },
     "metadata": {},
     "output_type": "display_data"
    },
    {
     "data": {
      "application/vnd.jupyter.widget-view+json": {
       "model_id": "8535c36f9fa74100af2a7cb55269759f"
      }
     },
     "metadata": {},
     "output_type": "display_data"
    },
    {
     "data": {
      "application/vnd.jupyter.widget-view+json": {
       "model_id": "9419cdff69d74e2d8db57c088bf25d6d"
      }
     },
     "metadata": {},
     "output_type": "display_data"
    },
    {
     "data": {
      "application/vnd.jupyter.widget-view+json": {
       "model_id": "478d7d3b8da6457d817288e6dfc6a8df"
      }
     },
     "metadata": {},
     "output_type": "display_data"
    },
    {
     "data": {
      "application/vnd.jupyter.widget-view+json": {
       "model_id": "14db3615bb464090b3e36dd88500489c"
      }
     },
     "metadata": {},
     "output_type": "display_data"
    },
    {
     "data": {
      "application/vnd.jupyter.widget-view+json": {
       "model_id": "f6fb4ebb269445fea328c9b490f2ca93"
      }
     },
     "metadata": {},
     "output_type": "display_data"
    },
    {
     "data": {
      "application/vnd.jupyter.widget-view+json": {
       "model_id": "faf2f0fab158460d90c6fb33b2e1a12f"
      }
     },
     "metadata": {},
     "output_type": "display_data"
    },
    {
     "data": {
      "application/vnd.jupyter.widget-view+json": {
       "model_id": "2a1b369e0a0947478f1a1706c18ebc42"
      }
     },
     "metadata": {},
     "output_type": "display_data"
    },
    {
     "data": {
      "application/vnd.jupyter.widget-view+json": {
       "model_id": "823020c8507f40c3ac727ec73681a7bb"
      }
     },
     "metadata": {},
     "output_type": "display_data"
    },
    {
     "data": {
      "application/vnd.jupyter.widget-view+json": {
       "model_id": "25da3a8a01d64a16b9464df2cc473597"
      }
     },
     "metadata": {},
     "output_type": "display_data"
    },
    {
     "data": {
      "application/vnd.jupyter.widget-view+json": {
       "model_id": "e4dfe7486ce94e83ae8b8b4ae1ba536d"
      }
     },
     "metadata": {},
     "output_type": "display_data"
    },
    {
     "data": {
      "application/vnd.jupyter.widget-view+json": {
       "model_id": "900f429b70fd4444bd102e1e400fcdf0"
      }
     },
     "metadata": {},
     "output_type": "display_data"
    },
    {
     "data": {
      "application/vnd.jupyter.widget-view+json": {
       "model_id": "5ffbb69971de4406abba7f44a3a2ea44"
      }
     },
     "metadata": {},
     "output_type": "display_data"
    },
    {
     "data": {
      "application/vnd.jupyter.widget-view+json": {
       "model_id": "07e1020af1bb456d912954991d0184d7"
      }
     },
     "metadata": {},
     "output_type": "display_data"
    },
    {
     "data": {
      "application/vnd.jupyter.widget-view+json": {
       "model_id": "1000ac02750740dab9d9f59bbf033616"
      }
     },
     "metadata": {},
     "output_type": "display_data"
    },
    {
     "data": {
      "application/vnd.jupyter.widget-view+json": {
       "model_id": "39b2f7f6a9d545d594fb8a8083caa0bc"
      }
     },
     "metadata": {},
     "output_type": "display_data"
    },
    {
     "data": {
      "application/vnd.jupyter.widget-view+json": {
       "model_id": "d6b3ec5178194d4b86484f554b5de7da"
      }
     },
     "metadata": {},
     "output_type": "display_data"
    },
    {
     "data": {
      "application/vnd.jupyter.widget-view+json": {
       "model_id": "2d0c00e12a5d4a7b831a0f9d19201020"
      }
     },
     "metadata": {},
     "output_type": "display_data"
    },
    {
     "data": {
      "application/vnd.jupyter.widget-view+json": {
       "model_id": "9f10cd8b58964b519e3101889cf96f0e"
      }
     },
     "metadata": {},
     "output_type": "display_data"
    },
    {
     "data": {
      "application/vnd.jupyter.widget-view+json": {
       "model_id": "2dfe8bd2f56d4a8fb1b0d1e8b17dd0e7"
      }
     },
     "metadata": {},
     "output_type": "display_data"
    },
    {
     "data": {
      "application/vnd.jupyter.widget-view+json": {
       "model_id": "e7dc133d573045ada27f1900562a9c58"
      }
     },
     "metadata": {},
     "output_type": "display_data"
    },
    {
     "data": {
      "application/vnd.jupyter.widget-view+json": {
       "model_id": "e2f925bf3d5c4ed3ae6a2362bdb2e46c"
      }
     },
     "metadata": {},
     "output_type": "display_data"
    },
    {
     "data": {
      "application/vnd.jupyter.widget-view+json": {
       "model_id": "64a7646c03c24e308a7c4d3d16bc496b"
      }
     },
     "metadata": {},
     "output_type": "display_data"
    },
    {
     "data": {
      "application/vnd.jupyter.widget-view+json": {
       "model_id": "31d65bf19d074a049724143c6293b6a7"
      }
     },
     "metadata": {},
     "output_type": "display_data"
    },
    {
     "data": {
      "application/vnd.jupyter.widget-view+json": {
       "model_id": "7e7fde8af94145d0af549ae20da3de59"
      }
     },
     "metadata": {},
     "output_type": "display_data"
    },
    {
     "data": {
      "application/vnd.jupyter.widget-view+json": {
       "model_id": "33d7fc014a4444ac9607772eb6617115"
      }
     },
     "metadata": {},
     "output_type": "display_data"
    },
    {
     "data": {
      "application/vnd.jupyter.widget-view+json": {
       "model_id": "97ff9cfdbbc0405b9b584b1ca2358c05"
      }
     },
     "metadata": {},
     "output_type": "display_data"
    }
   ],
   "source": [
    "e = np.zeros(100)\n",
    "ep = np.zeros(100)\n",
    "sim = np.zeros(100)\n",
    "\n",
    "\n",
    "for round_no in tqdm_notebook(xrange(100)):\n",
    "    e[round_no] = ES(100, 200, 100, 1000, griewank, 0.75, 2, 0.7, -600, 600).min()\n",
    "    ep[round_no] = ESplus(100, 200, 100, 1000, griewank, 0.75, 2, 0.7, -600, 600).min()\n",
    "    sim[round_no] = sim_ann(300*1000, 5, 1.0, griewank, 100, -600, 600).min()\n",
    "    \n",
    "plt.figure(figsize=(15,10))\n",
    "plt.hist(ep, label='ES(mi+lambda)')\n",
    "plt.hist(e, label='ES(mi,lambda)')\n",
    "plt.hist(sim, label='Simulated annealing')\n",
    "plt.legend()\n",
    "plt.show()\n",
    "print e.min(), ep.min(), sim.min()"
   ]
  },
  {
   "cell_type": "markdown",
   "metadata": {},
   "source": [
    "## Rastrigin function"
   ]
  },
  {
   "cell_type": "code",
   "execution_count": 62,
   "metadata": {},
   "outputs": [
    {
     "data": {
      "application/vnd.jupyter.widget-view+json": {
       "model_id": "a4cb0c5dc6ac4c5caef7af2252a1ba4b"
      }
     },
     "metadata": {},
     "output_type": "display_data"
    },
    {
     "name": "stdout",
     "output_type": "stream",
     "text": [
      "\r"
     ]
    },
    {
     "data": {
      "application/vnd.jupyter.widget-view+json": {
       "model_id": "2615e32ce5f9476d8ecd957ecd2cefc0"
      }
     },
     "metadata": {},
     "output_type": "display_data"
    },
    {
     "name": "stdout",
     "output_type": "stream",
     "text": [
      "\r"
     ]
    },
    {
     "data": {
      "image/png": "[encoded data removed]",
      "text/plain": [
       "<matplotlib.figure.Figure at 0x7f7168172c50>"
      ]
     },
     "metadata": {},
     "output_type": "display_data"
    },
    {
     "name": "stdout",
     "output_type": "stream",
     "text": [
      "147.645500168 47.0720621639\n"
     ]
    }
   ],
   "source": [
    "e = ES(100, 200, 100, 1000, rastrigin, 0.75, 3, 0.7, -5.12, 5.12)\n",
    "ep = ESplus(100, 200, 100, 1000, rastrigin, 0.75, 3, 0.7, -5.12, 5.12)\n",
    "\n",
    "plt.figure(figsize=(15,10))\n",
    "plt.plot(e, label='ES(mi,lambda)')\n",
    "plt.plot(ep, label='ES(mi+lambda)')\n",
    "plt.legend()\n",
    "plt.show()\n",
    "print e.min(), ep.min()"
   ]
  },
  {
   "cell_type": "code",
   "execution_count": null,
   "metadata": {
    "collapsed": true
   },
   "outputs": [],
   "source": [
    "e = np.zeros(100)\n",
    "ep = np.zeros(100)\n",
    "sim = np.zeros(100)\n",
    "\n",
    "for round_no in tqdm_notebook(xrange(100)):\n",
    "    e[round_no] = ES(100, 200, 100, 1000, rastrigin, 0.75, 2, 0.7, -5.12, 5.12).min()\n",
    "    ep[round_no] = ESplus(100, 200, 100, 1000, rastrigin, 0.75, 2, 0.7, -5.12, 5.12).min()\n",
    "    sim[round_no] = sim_ann(300*1000, 5, 1.0, rastrigin, 100, -5.12, 5.12).min()\n",
    "    \n",
    "plt.figure(figsize=(15,10))\n",
    "plt.hist(ep, label='ES(mi+lambda)')\n",
    "plt.hist(e, label='ES(mi,lambda)')\n",
    "plt.hist(sim, label='Simulated annealing')\n",
    "plt.legend()\n",
    "plt.show()\n",
    "print e.min(), ep.min(), sim.min()"
   ]
  },
  {
   "cell_type": "code",
   "execution_count": 63,
   "metadata": {},
   "outputs": [
    {
     "data": {
      "application/vnd.jupyter.widget-view+json": {
       "model_id": "6a83570bcbdb4e1fbc924810fba5d7eb"
      }
     },
     "metadata": {},
     "output_type": "display_data"
    },
    {
     "name": "stdout",
     "output_type": "stream",
     "text": [
      "\n"
     ]
    },
    {
     "data": {
      "image/png": "[encoded data removed]",
      "text/plain": [
       "<matplotlib.figure.Figure at 0x7f715baecf90>"
      ]
     },
     "metadata": {},
     "output_type": "display_data"
    }
   ],
   "source": [
    "no_of_probes = (300 * 1000)\n",
    "random_sampling = np.zeros(no_of_probes)\n",
    "\n",
    "for i in tqdm_notebook(xrange(no_of_probes)):\n",
    "    random_sampling[i] = rastrigin(np.random.uniform(-5.12, 5.12, 100))\n",
    "\n",
    "plt.figure(figsize=(15, 10))\n",
    "plt.hist(random_sampling)\n",
    "plt.show()"
   ]
  },
  {
   "cell_type": "markdown",
   "metadata": {},
   "source": [
    "## Schwefel function"
   ]
  },
  {
   "cell_type": "code",
   "execution_count": 71,
   "metadata": {
    "collapsed": true
   },
   "outputs": [
    {
     "data": {
      "application/vnd.jupyter.widget-view+json": {
       "model_id": "2e3f2b5cb8324c068f5251bb720e6c42"
      }
     },
     "metadata": {},
     "output_type": "display_data"
    },
    {
     "name": "stdout",
     "output_type": "stream",
     "text": [
      "\r"
     ]
    },
    {
     "data": {
      "application/vnd.jupyter.widget-view+json": {
       "model_id": "fbf5894bee514c05a67127d0e6e041bd"
      }
     },
     "metadata": {},
     "output_type": "display_data"
    },
    {
     "name": "stderr",
     "output_type": "stream",
     "text": [
      "/pio/lscratch/1/os/anaconda/lib/python2.7/site-packages/ipykernel_launcher.py:40: RuntimeWarning: overflow encountered in square\n",
      "/pio/lscratch/1/os/anaconda/lib/python2.7/site-packages/ipykernel_launcher.py:2: RuntimeWarning: invalid value encountered in sin\n",
      "  \n"
     ]
    },
    {
     "name": "stdout",
     "output_type": "stream",
     "text": [
      "\r"
     ]
    },
    {
     "name": "stderr",
     "output_type": "stream",
     "text": [
      "/pio/os/anaconda/lib/python2.7/site-packages/matplotlib/axes/_base.py:2324: RuntimeWarning: overflow encountered in double_scalars\n",
      "  x0t -= delta\n"
     ]
    },
    {
     "data": {
      "image/png": "[encoded data removed]",
      "text/plain": [
       "<matplotlib.figure.Figure at 0x7f71682fef50>"
      ]
     },
     "metadata": {},
     "output_type": "display_data"
    },
    {
     "name": "stdout",
     "output_type": "stream",
     "text": [
      "-1.55678855542e+264 -1.76019334466e+308\n"
     ]
    }
   ],
   "source": [
    "e = ES(100, 200, 100, 1000, schwefel, 0.75, 3, 0.7, -500, 500)\n",
    "ep = ESplus(100, 200, 100, 1000, schwefel, 0.75, 3, 0.7, -500, 500)\n",
    "\n",
    "plt.figure(figsize=(15,10))\n",
    "plt.plot(e, label='ES(mi,lambda)')\n",
    "plt.plot(ep, label='ES(mi+lambda)')\n",
    "plt.legend()\n",
    "plt.show()\n",
    "print e.min(), ep.min()"
   ]
  },
  {
   "cell_type": "code",
   "execution_count": 70,
   "metadata": {},
   "outputs": [
    {
     "data": {
      "application/vnd.jupyter.widget-view+json": {
       "model_id": "c5dd8093debd4ae19547cd690deff27e"
      }
     },
     "metadata": {},
     "output_type": "display_data"
    },
    {
     "name": "stdout",
     "output_type": "stream",
     "text": [
      "\n"
     ]
    },
    {
     "data": {
      "image/png": "[encoded data removed]",
      "text/plain": [
       "<matplotlib.figure.Figure at 0x7f716958e390>"
      ]
     },
     "metadata": {},
     "output_type": "display_data"
    }
   ],
   "source": [
    "no_of_probes = (300 * 1000)\n",
    "random_sampling = np.zeros(no_of_probes)\n",
    "\n",
    "for i in tqdm_notebook(xrange(no_of_probes)):\n",
    "    random_sampling[i] = schwefel(np.random.uniform(-500, 500, 100))\n",
    "\n",
    "plt.figure(figsize=(15, 10))\n",
    "plt.hist(random_sampling)\n",
    "plt.show()"
   ]
  },
  {
   "cell_type": "markdown",
   "metadata": {},
   "source": [
    "## Levy function"
   ]
  },
  {
   "cell_type": "code",
   "execution_count": 67,
   "metadata": {},
   "outputs": [
    {
     "data": {
      "application/vnd.jupyter.widget-view+json": {
       "model_id": "f583d35ad79946eba9072a20e5b21297"
      }
     },
     "metadata": {},
     "output_type": "display_data"
    },
    {
     "name": "stdout",
     "output_type": "stream",
     "text": [
      "\r"
     ]
    },
    {
     "data": {
      "application/vnd.jupyter.widget-view+json": {
       "model_id": "58e11aadb2f044d2b4023ae20fb01559"
      }
     },
     "metadata": {},
     "output_type": "display_data"
    },
    {
     "name": "stdout",
     "output_type": "stream",
     "text": [
      "\r"
     ]
    },
    {
     "data": {
      "image/png": "[encoded data removed]",
      "text/plain": [
       "<matplotlib.figure.Figure at 0x7f715bcc0410>"
      ]
     },
     "metadata": {},
     "output_type": "display_data"
    },
    {
     "name": "stdout",
     "output_type": "stream",
     "text": [
      "1.70151150825 1.30364985003\n"
     ]
    }
   ],
   "source": [
    "e = ES(100, 200, 100, 1000, levy, 0.75, 3, 0.7, -10, 10)\n",
    "ep = ESplus(100, 200, 100, 1000, levy, 0.75, 3, 0.7, -10, 10)\n",
    "\n",
    "plt.figure(figsize=(15,10))\n",
    "plt.plot(e, label='ES(mi,lambda)')\n",
    "plt.plot(ep, label='ES(mi+lambda)')\n",
    "plt.legend()\n",
    "plt.show()\n",
    "print e.min(), ep.min()"
   ]
  },
  {
   "cell_type": "code",
   "execution_count": null,
   "metadata": {
    "collapsed": true
   },
   "outputs": [],
   "source": [
    "e = np.zeros(100)\n",
    "ep = np.zeros(100)\n",
    "sim = np.zeros(100)\n",
    "\n",
    "for round_no in tqdm_notebook(xrange(100)):\n",
    "    e[round_no] = ES(100, 200, 100, 1000, levy, 0.75, 2, 0.7, -10, 10).min()\n",
    "    ep[round_no] = ESplus(100, 200, 100, 1000, levy, 0.75, 2, 0.7, -10, 10).min()\n",
    "    sim[round_no] = sim_ann(300*1000, 5, 1.0, levy, 100, -10, 10).min()\n",
    "    \n",
    "plt.figure(figsize=(15,10))\n",
    "plt.hist(ep, label='ES(mi+lambda)')\n",
    "plt.hist(e, label='ES(mi,lambda)')\n",
    "plt.hist(sim, label='Simulated annealing')\n",
    "plt.legend()\n",
    "plt.show()\n",
    "print e.min(), ep.min(), sim.min()"
   ]
  },
  {
   "cell_type": "code",
   "execution_count": 66,
   "metadata": {},
   "outputs": [
    {
     "data": {
      "application/vnd.jupyter.widget-view+json": {
       "model_id": "9d4404c5ccea46f0af6b10e5a195702f"
      }
     },
     "metadata": {},
     "output_type": "display_data"
    },
    {
     "name": "stdout",
     "output_type": "stream",
     "text": [
      "\n"
     ]
    },
    {
     "data": {
      "image/png": "[encoded data removed]",
      "text/plain": [
       "<matplotlib.figure.Figure at 0x7f715b9d0750>"
      ]
     },
     "metadata": {},
     "output_type": "display_data"
    }
   ],
   "source": [
    "no_of_probes = (300 * 1000)\n",
    "random_sampling = np.zeros(no_of_probes)\n",
    "\n",
    "for i in tqdm_notebook(xrange(no_of_probes)):\n",
    "    random_sampling[i] = levy(np.random.uniform(-10, 10, 100))\n",
    "\n",
    "plt.figure(figsize=(15, 10))\n",
    "plt.hist(random_sampling)\n",
    "plt.show()"
   ]
  },
  {
   "cell_type": "markdown",
   "metadata": {},
   "source": [
    "## Powell function"
   ]
  },
  {
   "cell_type": "code",
   "execution_count": 68,
   "metadata": {},
   "outputs": [
    {
     "data": {
      "application/vnd.jupyter.widget-view+json": {
       "model_id": "504302dee00047918059c020f608582e"
      }
     },
     "metadata": {},
     "output_type": "display_data"
    },
    {
     "name": "stdout",
     "output_type": "stream",
     "text": [
      "\r"
     ]
    },
    {
     "data": {
      "application/vnd.jupyter.widget-view+json": {
       "model_id": "f463cbdff8a44340bee7694df7953a11"
      }
     },
     "metadata": {},
     "output_type": "display_data"
    },
    {
     "name": "stdout",
     "output_type": "stream",
     "text": [
      "\r"
     ]
    },
    {
     "data": {
      "image/png": "[encoded data removed]",
      "text/plain": [
       "<matplotlib.figure.Figure at 0x7f715bcc0790>"
      ]
     },
     "metadata": {},
     "output_type": "display_data"
    },
    {
     "name": "stdout",
     "output_type": "stream",
     "text": [
      "159.565764374 4514.21835519\n"
     ]
    }
   ],
   "source": [
    "e = ES(100, 200, 100, 1000, powell, 0.75, 2, 0.7, -4, 5)\n",
    "ep = ESplus(100, 200, 100, 1000, powell, 0.75, 2, 0.7, -4, 5)\n",
    "\n",
    "plt.figure(figsize=(15,10))\n",
    "plt.plot(e, label='ES(mi,lambda)')\n",
    "plt.plot(ep, label='ES(mi+lambda)')\n",
    "plt.legend()\n",
    "plt.show()\n",
    "print e.min(), ep.min()"
   ]
  },
  {
   "cell_type": "code",
   "execution_count": null,
   "metadata": {
    "collapsed": true
   },
   "outputs": [],
   "source": [
    "e = np.zeros(100)\n",
    "ep = np.zeros(100)\n",
    "sim = np.zeros(100)\n",
    "\n",
    "for round_no in tqdm_notebook(xrange(100)):\n",
    "    e[round_no] = ES(100, 200, 100, 1000, powell, 0.75, 2, 0.7, -4, 5).min()\n",
    "    ep[round_no] = ESplus(100, 200, 100, 1000, powell, 0.75, 2, 0.7, -4, 5).min()\n",
    "    sim[round_no] = sim_ann(300*1000, 5, 1.0, powell, 100, -4, 5).min()\n",
    "    \n",
    "plt.figure(figsize=(15,10))\n",
    "plt.hist(ep, label='ES(mi+lambda)')\n",
    "plt.hist(e, label='ES(mi,lambda)')\n",
    "plt.hist(sim, label='Simulated annealing')\n",
    "plt.legend()\n",
    "plt.show()\n",
    "print e.min(), ep.min(), sim.min()"
   ]
  },
  {
   "cell_type": "code",
   "execution_count": 59,
   "metadata": {},
   "outputs": [
    {
     "data": {
      "application/vnd.jupyter.widget-view+json": {
       "model_id": "30f9880491de42618771ff0b9634ff02"
      }
     },
     "metadata": {},
     "output_type": "display_data"
    },
    {
     "name": "stdout",
     "output_type": "stream",
     "text": [
      "\n"
     ]
    },
    {
     "data": {
      "image/png": "[encoded data removed]",
      "text/plain": [
       "<matplotlib.figure.Figure at 0x7f715bcc8d50>"
      ]
     },
     "metadata": {},
     "output_type": "display_data"
    },
    {
     "name": "stdout",
     "output_type": "stream",
     "text": [
      "46195.310534\n"
     ]
    }
   ],
   "source": [
    "no_of_probes = (300 * 1000)\n",
    "random_sampling = np.zeros(no_of_probes)\n",
    "\n",
    "for i in tqdm_notebook(xrange(no_of_probes)):\n",
    "    random_sampling[i] = powell(np.random.uniform(-4, 5, 100))\n",
    "\n",
    "plt.figure(figsize=(15, 10))\n",
    "plt.hist(random_sampling)\n",
    "plt.show()\n",
    "print random_sampling.min()"
   ]
  }
 ],
 "metadata": {
  "kernelspec": {
   "display_name": "Python 2",
   "language": "python",
   "name": "python2"
  }
 },
 "nbformat": 4,
 "nbformat_minor": 2
}
