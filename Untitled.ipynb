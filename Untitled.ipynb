{
 "cells": [
  {
   "cell_type": "code",
   "execution_count": 1,
   "metadata": {},
   "outputs": [
    {
     "name": "stdout",
     "output_type": "stream",
     "text": [
      "25\n",
      "<type 'int'>\n",
      "<type 'int'>\n",
      "<type 'int'>\n"
     ]
    }
   ],
   "source": [
    "# podstawowe operacje matematyczne\n",
    "a = 1\n",
    "b = 3\n",
    "c = (2 * a + b) ** 2\n",
    "print c\n",
    "\n",
    "print type(a)\n",
    "print type(b)\n",
    "print type(c)"
   ]
  },
  {
   "cell_type": "code",
   "execution_count": 3,
   "metadata": {},
   "outputs": [
    {
     "name": "stdout",
     "output_type": "stream",
     "text": [
      "1.0\n",
      "<type 'float'>\n",
      "<type 'float'>\n",
      "<type 'float'>\n"
     ]
    }
   ],
   "source": [
    "d = 1.0\n",
    "e = 3.0\n",
    "f = (2 * d - e) ** 2\n",
    "print f\n",
    "\n",
    "print type(d)\n",
    "print type(e)\n",
    "print type(f)"
   ]
  },
  {
   "cell_type": "code",
   "execution_count": 2,
   "metadata": {},
   "outputs": [
    {
     "name": "stdout",
     "output_type": "stream",
     "text": [
      "3.14159265359\n",
      "3.0\n",
      "5.0\n",
      "72004899337.4\n",
      "3.21887582487\n",
      "-0.132351750098\n",
      "0.991202811863\n",
      "-0.133526407022\n"
     ]
    }
   ],
   "source": [
    "import math\n",
    "print math.fabs(math.pi)\n",
    "print math.floor(math.pi)\n",
    "print math.sqrt(c)\n",
    "print math.exp(c)\n",
    "print math.log(c)\n",
    "print math.sin(c)\n",
    "print math.cos(c)\n",
    "print math.tan(c)"
   ]
  },
  {
   "cell_type": "code",
   "execution_count": 4,
   "metadata": {},
   "outputs": [
    {
     "name": "stdout",
     "output_type": "stream",
     "text": [
      "[0, 1, 2, 3, 4, 1, 2, 3, 4, 5]\n",
      "[0, 1, 2, 3, 4, 1, 2, 3, 4, 5, 0, 1, 2, 3, 4, 1, 2, 3, 4, 5]\n"
     ]
    }
   ],
   "source": [
    "# podstawowe operacje tablicowe\n",
    "X = [0, 1, 2, 3, 4]\n",
    "Y = [1, 2, 3, 4, 5]\n",
    "Z = X + Y\n",
    "print Z\n",
    "print 2 * Z"
   ]
  },
  {
   "cell_type": "code",
   "execution_count": 2,
   "metadata": {},
   "outputs": [
    {
     "name": "stdout",
     "output_type": "stream",
     "text": [
      "<type 'list'>\n",
      "<type 'int'>\n",
      "<type 'numpy.ndarray'>\n",
      "<type 'numpy.int64'>\n",
      "[[1 2 3]\n",
      " [4 5 6]]\n"
     ]
    }
   ],
   "source": [
    "# operacje wektorowe i macierzowe z NumPy\n",
    "\n",
    "import numpy as np\n",
    "\n",
    "X = [[1, 2, 3], [4, 5, 6]]\n",
    "print type(X)\n",
    "print type(X[0][0])\n",
    "\n",
    "X = np.array([[1, 2, 3], [4, 5, 6]])\n",
    "# X = np.array([[1, 2, 3], [4, 5, 6]], dtype=np.float64)\n",
    "# X = np.array([[1.0, 2.0, 3.0], [4.0, 5.0, 6.0]])\n",
    "print type(X)\n",
    "print type(X[0, 0])\n",
    "\n",
    "print X"
   ]
  },
  {
   "cell_type": "code",
   "execution_count": 6,
   "metadata": {},
   "outputs": [
    {
     "name": "stdout",
     "output_type": "stream",
     "text": [
      "21\n",
      "[5 7 9]\n",
      "[ 6 15]\n",
      "3.5\n",
      "[ 2.5  3.5  4.5]\n",
      "[ 2.  5.]\n",
      "1.70782512766\n",
      "[ 1.5  1.5  1.5]\n",
      "[ 0.81649658  0.81649658]\n",
      "6\n",
      "[4 5 6]\n",
      "[3 6]\n",
      "[2 3 4]\n",
      "[ 1.41421356  1.41421356  1.41421356]\n"
     ]
    }
   ],
   "source": [
    "print np.sum(X)\n",
    "print np.sum(X, axis=0)\n",
    "print np.sum(X, axis=1)\n",
    "\n",
    "print np.mean(X)\n",
    "print np.mean(X, axis=0)\n",
    "print np.mean(X, axis=1)\n",
    "\n",
    "print np.std(X)\n",
    "print np.std(X, axis=0)\n",
    "print np.std(X, axis=1)\n",
    "\n",
    "print np.max(X)\n",
    "print np.max(X, axis=0)\n",
    "print np.max(X, axis=1)\n",
    "\n",
    "mean = np.sum(X, axis=0)/X.shape[0]\n",
    "std = np.sqrt(np.sum((X - np.sum(X, axis=0)/X.shape[0])**2, axis=0)/X.shape[0])\n",
    "\n",
    "print mean\n",
    "print std"
   ]
  },
  {
   "cell_type": "code",
   "execution_count": null,
   "metadata": {
    "collapsed": true
   },
   "outputs": [],
   "source": [
    "# operacje wektorowe i macierzowe z NumPy\n",
    "import numpy as np\n",
    "\n",
    "X = np.zeros((2,2))\n",
    "print X\n",
    "\n",
    "X = np.ones((2,2))\n",
    "print X\n",
    "\n",
    "X = np.full((2,2), 3)\n",
    "print X\n",
    "\n",
    "X = np.eye(2)\n",
    "print X\n",
    "\n",
    "X = np.random.rand(4,4)\n",
    "print X\n",
    "\n",
    "X = np.random.randn(4,4)\n",
    "print X\n",
    "\n",
    "Y = X[:, :]\n",
    "print Y\n",
    "\n",
    "Y = X[:2, :]\n",
    "print Y\n",
    "\n",
    "Y = X[1:3, :]\n",
    "print Y\n",
    "\n",
    "Y = X[:2, 2:]\n",
    "print Y\n",
    "\n",
    "Y[0,0] = 1;\n",
    "print Y\n",
    "print X\n",
    "\n",
    "Y = X[1, :]\n",
    "print Y\n",
    "Y = X[1:2, :]\n",
    "print Y\n",
    "\n",
    "# broadcasting\n",
    "import numpy as np\n",
    "\n",
    "A = np.array([1, 2])\n",
    "B = np.array([[3], [4]])\n",
    "print A\n",
    "print B\n",
    "print A + B\n",
    "\n",
    "# transpozycja\n",
    "import numpy as np\n",
    "\n",
    "A = np.array([1, 2])\n",
    "B = np.array([[3], [4]])\n",
    "print A\n",
    "print A.shape\n",
    "print B\n",
    "print B.shape\n",
    "print A.T\n",
    "print A.T.shape\n",
    "print B.T\n",
    "print B.T.shape\n",
    "print A[np.newaxis]\n",
    "print A[np.newaxis].shape\n",
    "print A[np.newaxis].T\n",
    "print A[np.newaxis].T.shape\n",
    "\n",
    "# liczenie odleglosci miedzy wektorami\n",
    "import numpy as np\n",
    "\n",
    "# wektory zapisujemy kolumnowo, tzn. X[:, 0], X[:, 1], X[:, 2] ... to kolejne wektory zgromadzone w macierzy X\n",
    "\n",
    "X = np.array([[1, 3, 5], [1, 5, 9]])\n",
    "Y = np.array([[2, 4, 6], [0, 4, 8]])\n",
    "print X\n",
    "print Y\n",
    "\n",
    "i = 1\n",
    "j = 2\n",
    "\n",
    "print X[:, i]\n",
    "print (X[:, i] - Y[:, j])\n",
    "print np.sum((X[:, i] - Y[:, j]) ** 2, axis = 0)\n",
    "print (X[:, i] - Y[:, j]).T.dot(X[:, i] - Y[:, j])\n",
    "\n",
    "#  liczenie macierzy odleglosci - wektory zapisujemy kolumnowo, tzn. X[:, 0], X[:, 1], X[:, 2] ... to kolejne wektory zgromadzone w macierzy X\n",
    "import numpy as np\n",
    "import time\n",
    "\n",
    "X = np.random.random((4, 1500))\n",
    "Y = np.random.random((4, 1500))\n",
    "N = X.shape[1]\n",
    "M = Y.shape[1]\n",
    "\n",
    "# metoda pierwsza - bardzo mało efektywna (proszę tak nie robić)\n",
    "D1 = np.zeros((N, M))\n",
    "t = time.time()\n",
    "for i in range(N):\n",
    "    for j in range(M):\n",
    "        D1[i, j] = np.sum((X[:, i] - Y[:, j]) ** 2, axis = 0)\n",
    "t1 = time.time() - t\n",
    "print t1\n",
    "\n",
    "\n",
    "\n",
    "\n",
    "\n",
    "# wygenerowanie danych losowych\n",
    "\n",
    "import numpy as np\n",
    "\n",
    "K = 3\n",
    "d = 4\n",
    "N = 1500\n",
    "X = np.zeros((d, N))\n",
    "X[:, 0:500] = np.random.randn(d, 500) + np.array([[0, 0, 0, 0]]).T\n",
    "X[:, 500:1000] = np.random.randn(d, 500) + np.array([[5, 5, 5, 5]]).T\n",
    "X[:, 1000:1500] = np.random.randn(d, 500) + np.array([[10, 0, 10, 0]]).T\n",
    "\n",
    "\n",
    "\n",
    "# wizualizacja danych (dwie pierwsze współrzędne)\n",
    "\n",
    "import matplotlib.pyplot as plt\n",
    "\n",
    "plt.plot(X[0, :], X[1, :], 'ro')\n",
    "plt.show()\n",
    "\n",
    "\n",
    "\n",
    "# wizualizacja danych (wszystkie pary współrzędnych)\n",
    "\n",
    "import matplotlib.pyplot as plt\n",
    "\n",
    "for i in range(d):\n",
    "    for j in range(d):\n",
    "        plt.subplot(d, d, i*d+j+1)\n",
    "        plt.plot(X[i, :], X[j, :], 'ro')\n",
    "plt.show()"
   ]
  },
  {
   "cell_type": "code",
   "execution_count": 9,
   "metadata": {},
   "outputs": [
    {
     "name": "stdout",
     "output_type": "stream",
     "text": [
      "[ 0.5  0.5  0.5  0.5  0.5  0.5  0.5  0.5  0.5  0.5]\n",
      "0.5\n"
     ]
    }
   ],
   "source": [
    "X = np.full(10,0.5)\n",
    "print X\n",
    "\n",
    "print X.max()"
   ]
  }
 ],
 "metadata": {
  "kernelspec": {
   "display_name": "Python 2",
   "language": "python",
   "name": "python2"
  },
  "language_info": {
   "codemirror_mode": {
    "name": "ipython",
    "version": 2
   },
   "file_extension": ".py",
   "mimetype": "text/x-python",
   "name": "python",
   "nbconvert_exporter": "python",
   "pygments_lexer": "ipython2",
   "version": "2.7.13"
  }
 },
 "nbformat": 4,
 "nbformat_minor": 2
}
