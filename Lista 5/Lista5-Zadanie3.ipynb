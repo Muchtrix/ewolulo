{
 "cells": [
  {
   "cell_type": "code",
   "execution_count": 36,
   "metadata": {},
   "outputs": [],
   "source": [
    "import numpy as np\n",
    "import matplotlib.pyplot as plt\n",
    "from tqdm import tqdm_notebook\n",
    "\n",
    "from __future__ import print_function\n",
    "from ipywidgets import interact, interactive, fixed, interact_manual\n",
    "import ipywidgets as widgets\n",
    "\n",
    "%matplotlib inline"
   ]
  },
  {
   "cell_type": "code",
   "execution_count": 22,
   "metadata": {},
   "outputs": [],
   "source": [
    "def front_pareto(population, evaluations):\n",
    "    nup = population.shape[0]\n",
    "    domination_count = np.zeros(nup)\n",
    "    pareto_front = np.empty(nup)\n",
    "    dominatees = []\n",
    "    f = []\n",
    "    for i in xrange(nup):\n",
    "        dominatees.append(np.nonzero(np.all(evaluations > evaluations[i], axis=1))[0])\n",
    "        domination_count[i] = np.sum(np.all(evaluations < evaluations[i], axis=1))\n",
    "        if domination_count[i] == 0:\n",
    "            pareto_front[i] = 1\n",
    "            f.append(i)\n",
    "    \n",
    "    fr = 2\n",
    "    while f:\n",
    "        nxt = []\n",
    "        for p in f:\n",
    "            for d in dominatees[p]:\n",
    "                domination_count[d] -= 1\n",
    "                if domination_count[d] == 0:\n",
    "                    pareto_front[d] = fr\n",
    "                    nxt.append(d)\n",
    "        fr += 1\n",
    "        f = nxt\n",
    "    return pareto_front"
   ]
  },
  {
   "cell_type": "code",
   "execution_count": 154,
   "metadata": {},
   "outputs": [],
   "source": [
    "def NSGA2_sort(population, evaluations):\n",
    "    nup = population.shape[0]\n",
    "    nf = evaluations.shape[1]\n",
    "    pareto_front = front_pareto(population, evaluations)\n",
    "    distances = np.zeros(nup)\n",
    "        \n",
    "    for i in xrange(nf):\n",
    "        idxs = np.argsort(evaluations[:, i])\n",
    "        population = population[idxs]\n",
    "        evaluations = evaluations[idxs]\n",
    "        pareto_front = pareto_front[idxs]\n",
    "        distances = distances[idxs]\n",
    "        distances[0] = np.inf\n",
    "        distances[nup-1] = np.inf\n",
    "        distances[1:nup-1] += evaluations[2:, i] - evaluations[:-2, i]\n",
    "\n",
    "    idxs = np.lexsort((-distances, pareto_front))\n",
    "    return population[idxs], evaluations[idxs]"
   ]
  },
  {
   "cell_type": "code",
   "execution_count": 113,
   "metadata": {},
   "outputs": [],
   "source": [
    "def tournament_selection(population_size, how_many, t_size = 5):\n",
    "    return np.random.choice(population_size, how_many * t_size).reshape((how_many, t_size)).min(axis=1)"
   ]
  },
  {
   "cell_type": "code",
   "execution_count": 114,
   "metadata": {},
   "outputs": [],
   "source": [
    "def NSGA2(iterations, genome_length, population_size, offspring_size, evaluation_functions, ranges, mutation_chance, mutation_range):\n",
    "    \n",
    "    log_populations = np.empty((iterations, population_size, genome_length))\n",
    "    \n",
    "    probs = np.arange(population_size, dtype=float)[::-1]\n",
    "    probs = probs/np.sum(probs)\n",
    "    \n",
    "    lower_bounds = ranges[:, 0]\n",
    "    upper_bounds = ranges[:, 1]\n",
    "    \n",
    "    sigma = mutation_range\n",
    "    \n",
    "    current_population_solutions = np.random.rand(population_size, genome_length) * (upper_bounds - lower_bounds) + lower_bounds\n",
    "    current_population_scores = np.empty((population_size, len(evaluation_functions)))\n",
    "    \n",
    "    for f in xrange(len(evaluation_functions)):\n",
    "        current_population_scores[:, f] = evaluation_functions[f](current_population_solutions).T\n",
    "        \n",
    "    current_population_solutions, current_population_scores = NSGA2_sort(current_population_solutions, current_population_scores)\n",
    "    \n",
    "    for i in tqdm_notebook(xrange(iterations)):\n",
    "        # parent selection\n",
    "        par1Idx = tournament_selection(population_size, offspring_size)\n",
    "        par2Idx = tournament_selection(population_size, offspring_size)\n",
    "        #par1Idx = np.random.choice(population_size, offspring_size, p=probs)\n",
    "        #par2Idx = np.random.choice(population_size, offspring_size, p=probs)\n",
    "        \n",
    "        # crossover\n",
    "        alphas = np.random.rand(offspring_size, genome_length)\n",
    "        offspring_population_solutions = alphas * current_population_solutions[par1Idx] + (1 - alphas) * current_population_solutions[par2Idx]\n",
    "        \n",
    "        # mutation\n",
    "        mutation_indicator = np.random.rand(offspring_size, genome_length) < mutation_chance\n",
    "        offspring_population_solutions += mutation_indicator * sigma * (np.random.rand(offspring_size, genome_length)*2 - 1)\n",
    "        np.clip(offspring_population_solutions, lower_bounds, upper_bounds, out=offspring_population_solutions)\n",
    "        \n",
    "        # evaluation of offspring\n",
    "        offspring_population_scores = np.empty((offspring_size, len(evaluation_functions)))\n",
    "        for f in xrange(len(evaluation_functions)):\n",
    "            offspring_population_scores[:, f] = evaluation_functions[f](offspring_population_solutions).T\n",
    "        \n",
    "        combined_solutions, combined_evaluations = NSGA2_sort(np.vstack([current_population_solutions, offspring_population_solutions]), np.vstack([current_population_scores, offspring_population_scores]))\n",
    "        current_population_solutions = combined_solutions[:population_size]\n",
    "        current_population_scores = combined_evaluations[:population_size]\n",
    "        log_populations[i, :, :] = current_population_solutions[:, :]\n",
    "        \n",
    "    return log_populations\n",
    "        "
   ]
  },
  {
   "cell_type": "code",
   "execution_count": 145,
   "metadata": {},
   "outputs": [],
   "source": [
    "def graph_population(population, evaluation_functions):\n",
    "    scores = np.empty((population.shape[0], len(evaluation_functions)))\n",
    "    for f in xrange(len(evaluation_functions)):\n",
    "        scores[:, f] = evaluation_functions[f](population).T\n",
    "    \n",
    "    par = front_pareto(population, scores)\n",
    "    lowest = scores[par == 1]\n",
    "    \n",
    "    plt.plot(figsize=(18, 6))\n",
    "    plt.scatter(scores[:, 0], scores[:, 1], c=par)\n",
    "    plt.plot(lowest[:, 0], lowest[:, 1], 'ro')\n",
    "    plt.xlabel('1st fitness function')\n",
    "    plt.ylabel('2nd fitness function')\n",
    "    plt.show()"
   ]
  },
  {
   "cell_type": "markdown",
   "metadata": {},
   "source": [
    "## SCH problem"
   ]
  },
  {
   "cell_type": "code",
   "execution_count": 133,
   "metadata": {},
   "outputs": [],
   "source": [
    "def SCH1(pop):\n",
    "    return pop * pop\n",
    "\n",
    "def SCH2(pop):\n",
    "    p = pop - 2\n",
    "    return p*p"
   ]
  },
  {
   "cell_type": "code",
   "execution_count": 157,
   "metadata": {
    "scrolled": false
   },
   "outputs": [
    {
     "data": {
      "application/vnd.jupyter.widget-view+json": {
       "model_id": "574e83b097504f3cb2d79de29d35197d",
       "version_major": 2,
       "version_minor": 0
      },
      "text/html": [
       "<p>Failed to display Jupyter Widget of type <code>HBox</code>.</p>\n",
       "<p>\n",
       "  If you're reading this message in the Jupyter Notebook or JupyterLab Notebook, it may mean\n",
       "  that the widgets JavaScript is still loading. If this message persists, it\n",
       "  likely means that the widgets JavaScript library is either not installed or\n",
       "  not enabled. See the <a href=\"https://ipywidgets.readthedocs.io/en/stable/user_install.html\">Jupyter\n",
       "  Widgets Documentation</a> for setup instructions.\n",
       "</p>\n",
       "<p>\n",
       "  If you're reading this message in another frontend (for example, a static\n",
       "  rendering on GitHub or <a href=\"https://nbviewer.jupyter.org/\">NBViewer</a>),\n",
       "  it may mean that your frontend doesn't currently support widgets.\n",
       "</p>\n"
      ],
      "text/plain": [
       "HBox(children=(IntProgress(value=0), HTML(value=u'')))"
      ]
     },
     "metadata": {},
     "output_type": "display_data"
    },
    {
     "name": "stdout",
     "output_type": "stream",
     "text": [
      "\n"
     ]
    }
   ],
   "source": [
    "iteration_count = 100\n",
    "genome_length = 1\n",
    "population_size = 300\n",
    "offspring_count = 900\n",
    "ev_fun_sch = np.array([SCH1, SCH2])\n",
    "ranges = np.array([[-1000, 1000]])\n",
    "mutation_chance = 0.1\n",
    "mutation_strength = 0.1\n",
    "pops_sch = NSGA2(iteration_count, genome_length, population_size, offspring_count, ev_fun_sch, ranges, mutation_chance, mutation_strength)"
   ]
  },
  {
   "cell_type": "code",
   "execution_count": 158,
   "metadata": {
    "scrolled": false
   },
   "outputs": [
    {
     "data": {
      "application/vnd.jupyter.widget-view+json": {
       "model_id": "3601b446fdf842eca6a5549fca222a9b",
       "version_major": 2,
       "version_minor": 0
      },
      "text/html": [
       "<p>Failed to display Jupyter Widget of type <code>interactive</code>.</p>\n",
       "<p>\n",
       "  If you're reading this message in the Jupyter Notebook or JupyterLab Notebook, it may mean\n",
       "  that the widgets JavaScript is still loading. If this message persists, it\n",
       "  likely means that the widgets JavaScript library is either not installed or\n",
       "  not enabled. See the <a href=\"https://ipywidgets.readthedocs.io/en/stable/user_install.html\">Jupyter\n",
       "  Widgets Documentation</a> for setup instructions.\n",
       "</p>\n",
       "<p>\n",
       "  If you're reading this message in another frontend (for example, a static\n",
       "  rendering on GitHub or <a href=\"https://nbviewer.jupyter.org/\">NBViewer</a>),\n",
       "  it may mean that your frontend doesn't currently support widgets.\n",
       "</p>\n"
      ],
      "text/plain": [
       "interactive(children=(IntSlider(value=0, description=u'x', max=99), Output()), _dom_classes=('widget-interact',))"
      ]
     },
     "metadata": {},
     "output_type": "display_data"
    }
   ],
   "source": [
    "def f_sch(x):\n",
    "    graph_population(pops_sch[x], ev_fun_sch)\n",
    "    \n",
    "x = interact(f_sch, x=widgets.IntSlider(min=0,max=99,step=1,value=0))\n"
   ]
  },
  {
   "cell_type": "markdown",
   "metadata": {},
   "source": [
    "## FON"
   ]
  },
  {
   "cell_type": "code",
   "execution_count": 130,
   "metadata": {},
   "outputs": [],
   "source": [
    "def FON1(pop):\n",
    "    return 1 - np.exp(1 - np.sum((pop - 1/np.sqrt(3))**2, axis=1))\n",
    "\n",
    "def FON2(pop):\n",
    "    return 1 - np.exp(1 - np.sum((pop + 1/np.sqrt(3))**2, axis=1))"
   ]
  },
  {
   "cell_type": "code",
   "execution_count": 159,
   "metadata": {
    "scrolled": true
   },
   "outputs": [
    {
     "data": {
      "application/vnd.jupyter.widget-view+json": {
       "model_id": "9e3bdb8f45dd484eb89e2d7689d3fde9",
       "version_major": 2,
       "version_minor": 0
      },
      "text/html": [
       "<p>Failed to display Jupyter Widget of type <code>HBox</code>.</p>\n",
       "<p>\n",
       "  If you're reading this message in the Jupyter Notebook or JupyterLab Notebook, it may mean\n",
       "  that the widgets JavaScript is still loading. If this message persists, it\n",
       "  likely means that the widgets JavaScript library is either not installed or\n",
       "  not enabled. See the <a href=\"https://ipywidgets.readthedocs.io/en/stable/user_install.html\">Jupyter\n",
       "  Widgets Documentation</a> for setup instructions.\n",
       "</p>\n",
       "<p>\n",
       "  If you're reading this message in another frontend (for example, a static\n",
       "  rendering on GitHub or <a href=\"https://nbviewer.jupyter.org/\">NBViewer</a>),\n",
       "  it may mean that your frontend doesn't currently support widgets.\n",
       "</p>\n"
      ],
      "text/plain": [
       "HBox(children=(IntProgress(value=0), HTML(value=u'')))"
      ]
     },
     "metadata": {},
     "output_type": "display_data"
    },
    {
     "name": "stdout",
     "output_type": "stream",
     "text": [
      "\n"
     ]
    }
   ],
   "source": [
    "iteration_count = 100\n",
    "genome_length = 3\n",
    "population_size = 300\n",
    "offspring_count = 900\n",
    "ev_fun_fon = np.array([FON1, FON2])\n",
    "ranges = np.array([[-4, 4]])\n",
    "mutation_chance = 0.1\n",
    "mutation_strength = 0.01\n",
    "pops_fon = NSGA2(iteration_count, genome_length, population_size, offspring_count, ev_fun_fon, ranges, mutation_chance, mutation_strength)"
   ]
  },
  {
   "cell_type": "code",
   "execution_count": 160,
   "metadata": {
    "scrolled": true
   },
   "outputs": [
    {
     "data": {
      "application/vnd.jupyter.widget-view+json": {
       "model_id": "5062163456dd4becaac065eff1cacd72",
       "version_major": 2,
       "version_minor": 0
      },
      "text/html": [
       "<p>Failed to display Jupyter Widget of type <code>interactive</code>.</p>\n",
       "<p>\n",
       "  If you're reading this message in the Jupyter Notebook or JupyterLab Notebook, it may mean\n",
       "  that the widgets JavaScript is still loading. If this message persists, it\n",
       "  likely means that the widgets JavaScript library is either not installed or\n",
       "  not enabled. See the <a href=\"https://ipywidgets.readthedocs.io/en/stable/user_install.html\">Jupyter\n",
       "  Widgets Documentation</a> for setup instructions.\n",
       "</p>\n",
       "<p>\n",
       "  If you're reading this message in another frontend (for example, a static\n",
       "  rendering on GitHub or <a href=\"https://nbviewer.jupyter.org/\">NBViewer</a>),\n",
       "  it may mean that your frontend doesn't currently support widgets.\n",
       "</p>\n"
      ],
      "text/plain": [
       "interactive(children=(IntSlider(value=0, description=u'x', max=99), Output()), _dom_classes=('widget-interact',))"
      ]
     },
     "metadata": {},
     "output_type": "display_data"
    }
   ],
   "source": [
    "def f_fon(x):\n",
    "    graph_population(pops_fon[x], ev_fun_fon)\n",
    "    \n",
    "x = interact(f_fon, x=widgets.IntSlider(min=0,max=99,step=1,value=0))"
   ]
  },
  {
   "cell_type": "markdown",
   "metadata": {},
   "source": [
    "## ZTD1"
   ]
  },
  {
   "cell_type": "code",
   "execution_count": 123,
   "metadata": {},
   "outputs": [],
   "source": [
    "def ZTD11(pop):\n",
    "    return pop[:, 0]\n",
    "\n",
    "def ZTD1g(pop):\n",
    "    return 1 + 9 * np.mean(pop[:, 1:], axis=1)\n",
    "\n",
    "def ZTD12(pop):\n",
    "    g = ZTD1g(pop)\n",
    "    return g * (1 - np.sqrt(pop[:, 0]/g))"
   ]
  },
  {
   "cell_type": "code",
   "execution_count": 161,
   "metadata": {
    "scrolled": true
   },
   "outputs": [
    {
     "data": {
      "application/vnd.jupyter.widget-view+json": {
       "model_id": "d7ce148f309e4bb1adb39f5b25831426",
       "version_major": 2,
       "version_minor": 0
      },
      "text/html": [
       "<p>Failed to display Jupyter Widget of type <code>HBox</code>.</p>\n",
       "<p>\n",
       "  If you're reading this message in the Jupyter Notebook or JupyterLab Notebook, it may mean\n",
       "  that the widgets JavaScript is still loading. If this message persists, it\n",
       "  likely means that the widgets JavaScript library is either not installed or\n",
       "  not enabled. See the <a href=\"https://ipywidgets.readthedocs.io/en/stable/user_install.html\">Jupyter\n",
       "  Widgets Documentation</a> for setup instructions.\n",
       "</p>\n",
       "<p>\n",
       "  If you're reading this message in another frontend (for example, a static\n",
       "  rendering on GitHub or <a href=\"https://nbviewer.jupyter.org/\">NBViewer</a>),\n",
       "  it may mean that your frontend doesn't currently support widgets.\n",
       "</p>\n"
      ],
      "text/plain": [
       "HBox(children=(IntProgress(value=0), HTML(value=u'')))"
      ]
     },
     "metadata": {},
     "output_type": "display_data"
    },
    {
     "name": "stdout",
     "output_type": "stream",
     "text": [
      "\n"
     ]
    }
   ],
   "source": [
    "iteration_count = 100\n",
    "genome_length = 30\n",
    "population_size = 300\n",
    "offspring_count = 900\n",
    "ev_fun_ztd1 = np.array([ZTD11, ZTD12])\n",
    "ranges = np.array([[0, 1]])\n",
    "mutation_chance = 0.1\n",
    "mutation_strength = 0.05\n",
    "pops_ztd1 = NSGA2(iteration_count, genome_length, population_size, offspring_count, ev_fun_ztd1, ranges, mutation_chance, mutation_strength)"
   ]
  },
  {
   "cell_type": "code",
   "execution_count": 162,
   "metadata": {
    "scrolled": false
   },
   "outputs": [
    {
     "data": {
      "application/vnd.jupyter.widget-view+json": {
       "model_id": "b67bdfb17308457188c93607c0ed191d",
       "version_major": 2,
       "version_minor": 0
      },
      "text/html": [
       "<p>Failed to display Jupyter Widget of type <code>interactive</code>.</p>\n",
       "<p>\n",
       "  If you're reading this message in the Jupyter Notebook or JupyterLab Notebook, it may mean\n",
       "  that the widgets JavaScript is still loading. If this message persists, it\n",
       "  likely means that the widgets JavaScript library is either not installed or\n",
       "  not enabled. See the <a href=\"https://ipywidgets.readthedocs.io/en/stable/user_install.html\">Jupyter\n",
       "  Widgets Documentation</a> for setup instructions.\n",
       "</p>\n",
       "<p>\n",
       "  If you're reading this message in another frontend (for example, a static\n",
       "  rendering on GitHub or <a href=\"https://nbviewer.jupyter.org/\">NBViewer</a>),\n",
       "  it may mean that your frontend doesn't currently support widgets.\n",
       "</p>\n"
      ],
      "text/plain": [
       "interactive(children=(IntSlider(value=0, description=u'x', max=99), Output()), _dom_classes=('widget-interact',))"
      ]
     },
     "metadata": {},
     "output_type": "display_data"
    }
   ],
   "source": [
    "def f_ztd1(x):\n",
    "    graph_population(pops_ztd1[x], ev_fun_ztd1)\n",
    "    \n",
    "x = interact(f_ztd1, x=widgets.IntSlider(min=0,max=99,step=1,value=0))"
   ]
  },
  {
   "cell_type": "markdown",
   "metadata": {},
   "source": [
    "## ZTD3"
   ]
  },
  {
   "cell_type": "code",
   "execution_count": 148,
   "metadata": {},
   "outputs": [],
   "source": [
    "def ZTD31(pop):\n",
    "    return pop[:, 0]\n",
    "\n",
    "def ZTD3g(pop):\n",
    "    return 1 + 9 * np.mean(pop[:, 1:], axis=1)\n",
    "\n",
    "def ZTD32(pop):\n",
    "    g = ZTD3g(pop)\n",
    "    return g * (1 - np.sqrt(pop[:, 0]/g) - ((pop[:, 0] * np.sin(10*np.pi*pop[:, 0]))/g))"
   ]
  },
  {
   "cell_type": "code",
   "execution_count": 166,
   "metadata": {
    "scrolled": true
   },
   "outputs": [
    {
     "data": {
      "application/vnd.jupyter.widget-view+json": {
       "model_id": "448b5682249141fb98199237b2b4f016",
       "version_major": 2,
       "version_minor": 0
      },
      "text/html": [
       "<p>Failed to display Jupyter Widget of type <code>HBox</code>.</p>\n",
       "<p>\n",
       "  If you're reading this message in the Jupyter Notebook or JupyterLab Notebook, it may mean\n",
       "  that the widgets JavaScript is still loading. If this message persists, it\n",
       "  likely means that the widgets JavaScript library is either not installed or\n",
       "  not enabled. See the <a href=\"https://ipywidgets.readthedocs.io/en/stable/user_install.html\">Jupyter\n",
       "  Widgets Documentation</a> for setup instructions.\n",
       "</p>\n",
       "<p>\n",
       "  If you're reading this message in another frontend (for example, a static\n",
       "  rendering on GitHub or <a href=\"https://nbviewer.jupyter.org/\">NBViewer</a>),\n",
       "  it may mean that your frontend doesn't currently support widgets.\n",
       "</p>\n"
      ],
      "text/plain": [
       "HBox(children=(IntProgress(value=0), HTML(value=u'')))"
      ]
     },
     "metadata": {},
     "output_type": "display_data"
    },
    {
     "name": "stdout",
     "output_type": "stream",
     "text": [
      "\n"
     ]
    }
   ],
   "source": [
    "iteration_count = 100\n",
    "genome_length = 30\n",
    "population_size = 600\n",
    "offspring_count = 2000\n",
    "ev_fun_ztd3 = np.array([ZTD31, ZTD32])\n",
    "ranges = np.array([[0, 1]])\n",
    "mutation_chance = 0.1\n",
    "mutation_strength = 0.1\n",
    "pops_ztd3 = NSGA2(iteration_count, genome_length, population_size, offspring_count, ev_fun_ztd3, ranges, mutation_chance, mutation_strength)"
   ]
  },
  {
   "cell_type": "code",
   "execution_count": 167,
   "metadata": {
    "scrolled": false
   },
   "outputs": [
    {
     "data": {
      "application/vnd.jupyter.widget-view+json": {
       "model_id": "38fbd658137a4296aae50f9386cc3444",
       "version_major": 2,
       "version_minor": 0
      },
      "text/html": [
       "<p>Failed to display Jupyter Widget of type <code>interactive</code>.</p>\n",
       "<p>\n",
       "  If you're reading this message in the Jupyter Notebook or JupyterLab Notebook, it may mean\n",
       "  that the widgets JavaScript is still loading. If this message persists, it\n",
       "  likely means that the widgets JavaScript library is either not installed or\n",
       "  not enabled. See the <a href=\"https://ipywidgets.readthedocs.io/en/stable/user_install.html\">Jupyter\n",
       "  Widgets Documentation</a> for setup instructions.\n",
       "</p>\n",
       "<p>\n",
       "  If you're reading this message in another frontend (for example, a static\n",
       "  rendering on GitHub or <a href=\"https://nbviewer.jupyter.org/\">NBViewer</a>),\n",
       "  it may mean that your frontend doesn't currently support widgets.\n",
       "</p>\n"
      ],
      "text/plain": [
       "interactive(children=(IntSlider(value=0, description=u'x', max=99), Output()), _dom_classes=('widget-interact',))"
      ]
     },
     "metadata": {},
     "output_type": "display_data"
    }
   ],
   "source": [
    "def f_ztd3(x):\n",
    "    graph_population(pops_ztd3[x], ev_fun_ztd3)\n",
    "    \n",
    "x = interact(f_ztd3, x=widgets.IntSlider(min=0,max=99,step=1,value=0))"
   ]
  }
 ],
 "metadata": {
  "kernelspec": {
   "display_name": "Python 2",
   "language": "python",
   "name": "python2"
  },
  "language_info": {
   "codemirror_mode": {
    "name": "ipython",
    "version": 2
   },
   "file_extension": ".py",
   "mimetype": "text/x-python",
   "name": "python",
   "nbconvert_exporter": "python",
   "pygments_lexer": "ipython2",
   "version": "2.7.14"
  }
 },
 "nbformat": 4,
 "nbformat_minor": 2
}
