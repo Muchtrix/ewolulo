{
 "cells": [
  {
   "cell_type": "code",
   "execution_count": 1,
   "metadata": {},
   "outputs": [],
   "source": [
    "import numpy as np\n",
    "import matplotlib.pyplot as plt\n",
    "from tqdm import tqdm_notebook\n",
    "\n",
    "%matplotlib inline"
   ]
  },
  {
   "cell_type": "code",
   "execution_count": 14,
   "metadata": {},
   "outputs": [],
   "source": [
    "np.lexsort?"
   ]
  },
  {
   "cell_type": "code",
   "execution_count": 17,
   "metadata": {},
   "outputs": [],
   "source": [
    "def front_pareto(population, evaluations):\n",
    "    np = population.shape[0]\n",
    "    domination_count = np.zeros(np)\n",
    "    pareto_front = np.empty(np)\n",
    "    dominatees = []\n",
    "    f = []\n",
    "    for i in xrange(np):\n",
    "        dominatees.append(np.nonzero(np.all(evaluations > evaluations[comp], axis=1))[0])\n",
    "        domination_count[i] = np.sum(np.all(evaluations < evaluations[comp], axis=1))\n",
    "        if domination_count[i] == 0:\n",
    "            pareto_front[i] = 1\n",
    "            f.append(i)\n",
    "    \n",
    "    fr = 2\n",
    "    while f:\n",
    "        nxt = []\n",
    "        for p in f:\n",
    "            for d in dominatees[p]:\n",
    "                domination_count[d] -= 1\n",
    "                if domination_count[d] == 0:\n",
    "                    pareto_front[d] = fr\n",
    "                    nxt.append(d)\n",
    "        fr += 1\n",
    "        f = nxt\n",
    "    return pareto_front"
   ]
  },
  {
   "cell_type": "code",
   "execution_count": 16,
   "metadata": {},
   "outputs": [],
   "source": [
    "def NSGA2_sort(population, evaluations):\n",
    "    np = population.shape[0]\n",
    "    nf = evaluations.shape[1]\n",
    "    pareto_front = front_pareto(population, evaluations)\n",
    "    distances = np.zeros(np)\n",
    "        \n",
    "    for i in xrange(nf):\n",
    "        idxs = np.argsort(evaluations[:, i])\n",
    "        population = population[idxs]\n",
    "        evaluations = evaluations[idxs]\n",
    "        pareto_front = pareto_front[idxs]\n",
    "        distances = distances[idxs]\n",
    "        distances[0] = np.inf\n",
    "        distances[np] = np.inf\n",
    "        distances[1:np-1] += evaluations[2:, i] - evaluations[:-2, i]\n",
    "    \n",
    "    idxs = np.lexsort(pareto_front, distances)\n",
    "    return population[idxs], evaluations[idxs]"
   ]
  },
  {
   "cell_type": "code",
   "execution_count": 32,
   "metadata": {},
   "outputs": [],
   "source": [
    "def NSGA2(iterations, genome_length, population_size, offspring_size, evaluation_functions, ranges):\n",
    "    \n",
    "    log_populations = np.empty((iterations, population_size, genome_length))\n",
    "    \n",
    "    lower_bounds = ranges[:, 0]\n",
    "    upper_bounds = ranges[:, 1]\n",
    "    \n",
    "    current_population_solutions = np.random.rand(population_size, genome_length) * (upper_bounds - lower_bounds) + lower_bounds\n",
    "    current_population_scores = np.empty((population_size, len(evaluation_functions)))\n",
    "    print current_population_scores.shape\n",
    "    print evaluation_functions[0](current_population_solutions).shape\n",
    "    print current_population_scores[:, 0].shape\n",
    "    for f in xrange(len(evaluation_functions)):\n",
    "        current_population_scores[:, f] = (evaluation_functions[f])(current_population_solutions)\n",
    "    \n",
    "    for i in tqdm_notebook(xrange(iterations)):\n",
    "        # parent selection\n",
    "        par1Idx = np.random.choice(population_size, offspring_size)\n",
    "        par2Idx = np.random.choice(population_size, offspring_size)\n",
    "        \n",
    "        # crossover\n",
    "        alphas = np.random.rand(offspring_size, genome_length)\n",
    "        offspring_population_solutions = alphas * current_population_solutions[par1Idx] + (1 - alphas) * current_population_solutions[par2Idx]\n",
    "        # mutation TODO\n",
    "        \n",
    "        np.clip(offspring_population_solutions, lower_bounds, upper_bounds, out=offspring_population_solutions)\n",
    "        \n",
    "        # evaluation of offspring\n",
    "        offspring_population_scores = np.empty((offspring_size, len(evaluation_functions)))\n",
    "        for f in xrange(len(evaluation_functions)):\n",
    "            offspring_population_scores[:, f] = evaluation_functions[f](offspring_population_solutions)\n",
    "        \n",
    "        combined_solutions, combined_evaluations = NSGA2_sort(np.vstack([current_population_solutions, offspring_population_solutions]), np.vstack([current_population_scores, offspring_population_scores]))\n",
    "        current_population_solutions = combined_solutions[:population_size]\n",
    "        current_population_scores = combined_evaluations[:population_size]\n",
    "        log_populations[i, :, :] = population[:, :]\n",
    "        \n",
    "    return log_populations\n",
    "        "
   ]
  },
  {
   "cell_type": "code",
   "execution_count": 19,
   "metadata": {},
   "outputs": [],
   "source": [
    "def graph_population(population, evaluation_functions):\n",
    "    scores = np.empty((population.shape[0], len(evaluation_functions)))\n",
    "    for f in xrange(len(evaluation_functions)):\n",
    "        scores[:, f] = evaluation_functions[f](population)\n",
    "    \n",
    "    plt.plot(figsize=(18, 6))\n",
    "    plt.scatter(scores, c = front_pareto(population, scores))\n",
    "    plt.show()"
   ]
  },
  {
   "cell_type": "markdown",
   "metadata": {},
   "source": [
    "## SCH problem"
   ]
  },
  {
   "cell_type": "code",
   "execution_count": 20,
   "metadata": {},
   "outputs": [],
   "source": [
    "def SCH1(pop):\n",
    "    return pop ** 2\n",
    "\n",
    "def SCH2(pop):\n",
    "    return (pop - 2) ** 2"
   ]
  },
  {
   "cell_type": "code",
   "execution_count": 33,
   "metadata": {},
   "outputs": [
    {
     "name": "stdout",
     "output_type": "stream",
     "text": [
      "(100, 2)\n",
      "(100, 1)\n",
      "(100,)\n"
     ]
    },
    {
     "ename": "ValueError",
     "evalue": "could not broadcast input array from shape (100,1) into shape (100)",
     "output_type": "error",
     "traceback": [
      "\u001b[0;31m---------------------------------------------------------------------------\u001b[0m",
      "\u001b[0;31mValueError\u001b[0m                                Traceback (most recent call last)",
      "\u001b[0;32m<ipython-input-33-dae0a62e264a>\u001b[0m in \u001b[0;36m<module>\u001b[0;34m()\u001b[0m\n\u001b[0;32m----> 1\u001b[0;31m \u001b[0mpops\u001b[0m \u001b[0;34m=\u001b[0m \u001b[0mNSGA2\u001b[0m\u001b[0;34m(\u001b[0m\u001b[0;36m100\u001b[0m\u001b[0;34m,\u001b[0m \u001b[0;36m1\u001b[0m\u001b[0;34m,\u001b[0m \u001b[0;36m100\u001b[0m\u001b[0;34m,\u001b[0m \u001b[0;36m100\u001b[0m\u001b[0;34m,\u001b[0m \u001b[0mnp\u001b[0m\u001b[0;34m.\u001b[0m\u001b[0marray\u001b[0m\u001b[0;34m(\u001b[0m\u001b[0;34m[\u001b[0m\u001b[0mSCH1\u001b[0m\u001b[0;34m,\u001b[0m \u001b[0mSCH2\u001b[0m\u001b[0;34m]\u001b[0m\u001b[0;34m)\u001b[0m\u001b[0;34m,\u001b[0m \u001b[0mnp\u001b[0m\u001b[0;34m.\u001b[0m\u001b[0marray\u001b[0m\u001b[0;34m(\u001b[0m\u001b[0;34m[\u001b[0m\u001b[0;34m[\u001b[0m\u001b[0;34m-\u001b[0m\u001b[0;36m1000\u001b[0m\u001b[0;34m,\u001b[0m \u001b[0;36m1000\u001b[0m\u001b[0;34m]\u001b[0m\u001b[0;34m]\u001b[0m\u001b[0;34m)\u001b[0m\u001b[0;34m)\u001b[0m\u001b[0;34m\u001b[0m\u001b[0m\n\u001b[0m",
      "\u001b[0;32m<ipython-input-32-67481c262288>\u001b[0m in \u001b[0;36mNSGA2\u001b[0;34m(iterations, genome_length, population_size, offspring_size, evaluation_functions, ranges)\u001b[0m\n\u001b[1;32m     12\u001b[0m     \u001b[0;32mprint\u001b[0m \u001b[0mcurrent_population_scores\u001b[0m\u001b[0;34m[\u001b[0m\u001b[0;34m:\u001b[0m\u001b[0;34m,\u001b[0m \u001b[0;36m0\u001b[0m\u001b[0;34m]\u001b[0m\u001b[0;34m.\u001b[0m\u001b[0mshape\u001b[0m\u001b[0;34m\u001b[0m\u001b[0m\n\u001b[1;32m     13\u001b[0m     \u001b[0;32mfor\u001b[0m \u001b[0mf\u001b[0m \u001b[0;32min\u001b[0m \u001b[0mxrange\u001b[0m\u001b[0;34m(\u001b[0m\u001b[0mlen\u001b[0m\u001b[0;34m(\u001b[0m\u001b[0mevaluation_functions\u001b[0m\u001b[0;34m)\u001b[0m\u001b[0;34m)\u001b[0m\u001b[0;34m:\u001b[0m\u001b[0;34m\u001b[0m\u001b[0m\n\u001b[0;32m---> 14\u001b[0;31m         \u001b[0mcurrent_population_scores\u001b[0m\u001b[0;34m[\u001b[0m\u001b[0;34m:\u001b[0m\u001b[0;34m,\u001b[0m \u001b[0mf\u001b[0m\u001b[0;34m]\u001b[0m \u001b[0;34m=\u001b[0m \u001b[0;34m(\u001b[0m\u001b[0mevaluation_functions\u001b[0m\u001b[0;34m[\u001b[0m\u001b[0mf\u001b[0m\u001b[0;34m]\u001b[0m\u001b[0;34m)\u001b[0m\u001b[0;34m(\u001b[0m\u001b[0mcurrent_population_solutions\u001b[0m\u001b[0;34m)\u001b[0m\u001b[0;34m\u001b[0m\u001b[0m\n\u001b[0m\u001b[1;32m     15\u001b[0m \u001b[0;34m\u001b[0m\u001b[0m\n\u001b[1;32m     16\u001b[0m     \u001b[0;32mfor\u001b[0m \u001b[0mi\u001b[0m \u001b[0;32min\u001b[0m \u001b[0mtqdm_notebook\u001b[0m\u001b[0;34m(\u001b[0m\u001b[0mxrange\u001b[0m\u001b[0;34m(\u001b[0m\u001b[0miterations\u001b[0m\u001b[0;34m)\u001b[0m\u001b[0;34m)\u001b[0m\u001b[0;34m:\u001b[0m\u001b[0;34m\u001b[0m\u001b[0m\n",
      "\u001b[0;31mValueError\u001b[0m: could not broadcast input array from shape (100,1) into shape (100)"
     ]
    }
   ],
   "source": [
    "pops = NSGA2(100, 1, 100, 100, np.array([SCH1, SCH2]), np.array([[-1000, 1000]]))"
   ]
  }
 ],
 "metadata": {
  "kernelspec": {
   "display_name": "Python 2",
   "language": "python",
   "name": "python2"
  },
  "language_info": {
   "codemirror_mode": {
    "name": "ipython",
    "version": 2
   },
   "file_extension": ".py",
   "mimetype": "text/x-python",
   "name": "python",
   "nbconvert_exporter": "python",
   "pygments_lexer": "ipython2",
   "version": "2.7.14"
  }
 },
 "nbformat": 4,
 "nbformat_minor": 2
}
