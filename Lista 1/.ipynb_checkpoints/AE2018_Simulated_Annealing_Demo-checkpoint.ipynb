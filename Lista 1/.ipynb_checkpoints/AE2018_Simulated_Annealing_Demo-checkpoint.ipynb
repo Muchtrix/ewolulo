{
 "cells": [
  {
   "cell_type": "markdown",
   "metadata": {},
   "source": [
    "# Simulated Annealing Demo\n",
    "\n",
    "Skrypt przedstawia przykładową implementację algorytmu symulowanego wyżarzania (ang. Simulated Annealing, SA) i jego zastosowanie do rozwiązywania problemu Quadratic Assignment Problem (QAP). Problem jest dokładnie opisany m.in. w pracy Burkarda i innych [1]. Popularne instancje problemu QAP można znaleźć w bibliotece QAPLib [2]. Skrypt skupia się na rozwiązywaniu instancji NUG12 [3], w celu rozwiązywania innych instancji może okazać się konieczna zmiana ustawień parametrów algorytmu.\n",
    "\n",
    "Literatura:\n",
    "\n",
    "[1]  Burkard, R., Cela, E., Pardalos, P., Pitsoulis, L., \"The Quadratic Assignment Problem\", http://citeseerx.ist.psu.edu/viewdoc/summary?doi=10.1.1.217.1914\n",
    "\n",
    "[2] QAPLIB, http://anjos.mgi.polymtl.ca/qaplib/\n",
    "\n",
    "[3] NUG12, http://anjos.mgi.polymtl.ca/qaplib/data.d/nug12.dat"
   ]
  },
  {
   "cell_type": "code",
   "execution_count": 1,
   "metadata": {
    "collapsed": true
   },
   "outputs": [],
   "source": [
    "def log_progress(sequence, every=None, size=None, name='Items'):\n",
    "    from ipywidgets import IntProgress, HTML, VBox\n",
    "    from IPython.display import display\n",
    "\n",
    "    is_iterator = False\n",
    "    if size is None:\n",
    "        try:\n",
    "            size = len(sequence)\n",
    "        except TypeError:\n",
    "            is_iterator = True\n",
    "    if size is not None:\n",
    "        if every is None:\n",
    "            if size <= 200:\n",
    "                every = 1\n",
    "            else:\n",
    "                every = int(size / 200)     # every 0.5%\n",
    "    else:\n",
    "        assert every is not None, 'sequence is iterator, set every'\n",
    "\n",
    "    if is_iterator:\n",
    "        progress = IntProgress(min=0, max=1, value=1)\n",
    "        progress.bar_style = 'info'\n",
    "    else:\n",
    "        progress = IntProgress(min=0, max=size, value=0)\n",
    "    label = HTML()\n",
    "    box = VBox(children=[label, progress])\n",
    "    display(box)\n",
    "\n",
    "    index = 0\n",
    "    try:\n",
    "        for index, record in enumerate(sequence, 1):\n",
    "            if index == 1 or index % every == 0:\n",
    "                if is_iterator:\n",
    "                    label.value = '{name}: {index} / ?'.format(\n",
    "                        name=name,\n",
    "                        index=index\n",
    "                    )\n",
    "                else:\n",
    "                    progress.value = index\n",
    "                    label.value = u'{name}: {index} / {size}'.format(\n",
    "                        name=name,\n",
    "                        index=index,\n",
    "                        size=size\n",
    "                    )\n",
    "            yield record\n",
    "    except:\n",
    "        progress.bar_style = 'danger'\n",
    "        raise\n",
    "    else:\n",
    "        progress.bar_style = 'success'\n",
    "        progress.value = index\n",
    "        label.value = \"{name}: {index}\".format(\n",
    "            name=name,\n",
    "            index=str(index or '?')\n",
    "        )"
   ]
  },
  {
   "cell_type": "raw",
   "metadata": {},
   "source": [
    "# Popularne instancje QAP wraz z dokładnym minimum funkcji celu\n",
    "   Nug12   12    578 (OPT)    (12,7,9,3,4,8,11,1,5,6,10,2)                 \n",
    "   Nug14   14   1014 (OPT)    (9,8,13,2,1,11,7,14,3,4,12,5,6,10)            \n",
    "   Nug15   15   1150 (OPT)    (1,2,13,8,9,4,3,14,7,11,10,15,6,5,12)          \n",
    "   Nug16a  16   1610 (OPT)    (9,14,2,15,16,3,10,12,8,11,6,5,7,1,4,13)      \n",
    "   Nug16b  16   1240 (OPT)    (16,12,13,8,4,2,9,11,15,10,7,3,14,6,1,5)       \n",
    "   Nug17   17   1732 (OPT)    (16,15,2,14,9,11,8,12,10,3,4,1,7,6,13,17,5)       \n",
    "   Nug18   18   1930 (OPT)    (10,3,14,2,18,6,7,12,15,4,5,1,11,8,17,13,9,16)     \n",
    "   Nug20   20   2570 (OPT)    (18,14,10,3,9,4,2,12,11,16,19,15,20,8,13,17,5,7,1,6)\n",
    "   Nug21   21   2438 (OPT)    (4,21,3,9,13,2,5,14,18,11,16,10,6,15,20,19,8,7,1,12,17) \n",
    "   Nug22   22   3596 (OPT)    (2,21,9,10,7,3,1,19,8,20,17,5,13,6,12,16,11,22,18,14,15) \n",
    "   Nug24   24   3488 (OPT)    (17,8,11,23,4,20,15,19,22,18,3,14,1,10,7,9,16,21,24,12,6,13,5,2)\n",
    "   Nug25   25   3744 (OPT)    (5,11,20,15,22,2,25,8,9,1,18,16,3,6,19,24,21,14,7,10,17,12,4,23,13)\n",
    "*  Nug27   27   5234 (OPT)    (23,18,3,1,27,17,5,12,7,15,4,26,8,19,20,2,24,21,14,10,9,13,22,25,6,16,11)\n",
    "*  Nug28   28   5166 (OPT)    (18,21,9,1,28,20,11,3,13,12,10,19,14,22,15,2,25,16,4,23,7,17,24,26,5,27,8,6)\n",
    "*  Nug30   30   6124 (OPT)    (5 12 6 13 2 21 26 24 10 9 29 28 17 1 8 7 19 25 23 22 11 16 30 4 15 18 27 3 14 20)   "
   ]
  },
  {
   "cell_type": "code",
   "execution_count": 2,
   "metadata": {
    "collapsed": true
   },
   "outputs": [],
   "source": [
    "import numpy as np\n",
    "import matplotlib.pyplot as plt\n",
    "import time\n",
    "import urllib\n",
    "\n",
    "%matplotlib inline"
   ]
  },
  {
   "cell_type": "code",
   "execution_count": 3,
   "metadata": {
    "collapsed": true
   },
   "outputs": [],
   "source": [
    "QAP_INSTANCE_URL = 'http://anjos.mgi.polymtl.ca/qaplib/data.d/nug12.dat'"
   ]
  },
  {
   "cell_type": "markdown",
   "metadata": {},
   "source": [
    "## Reading input data"
   ]
  },
  {
   "cell_type": "code",
   "execution_count": 4,
   "metadata": {},
   "outputs": [
    {
     "name": "stdout",
     "output_type": "stream",
     "text": [
      "Problem size: 12\n",
      "12\n",
      "\n",
      "('Flow matrix:\\n', array([[ 0.,  1.,  2.,  3.,  1.,  2.,  3.,  4.,  2.,  3.,  4.,  5.],\n",
      "       [ 1.,  0.,  1.,  2.,  2.,  1.,  2.,  3.,  3.,  2.,  3.,  4.],\n",
      "       [ 2.,  1.,  0.,  1.,  3.,  2.,  1.,  2.,  4.,  3.,  2.,  3.],\n",
      "       [ 3.,  2.,  1.,  0.,  4.,  3.,  2.,  1.,  5.,  4.,  3.,  2.],\n",
      "       [ 1.,  2.,  3.,  4.,  0.,  1.,  2.,  3.,  1.,  2.,  3.,  4.],\n",
      "       [ 2.,  1.,  2.,  3.,  1.,  0.,  1.,  2.,  2.,  1.,  2.,  3.],\n",
      "       [ 3.,  2.,  1.,  2.,  2.,  1.,  0.,  1.,  3.,  2.,  1.,  2.],\n",
      "       [ 4.,  3.,  2.,  1.,  3.,  2.,  1.,  0.,  4.,  3.,  2.,  1.],\n",
      "       [ 2.,  3.,  4.,  5.,  1.,  2.,  3.,  4.,  0.,  1.,  2.,  3.],\n",
      "       [ 3.,  2.,  3.,  4.,  2.,  1.,  2.,  3.,  1.,  0.,  1.,  2.],\n",
      "       [ 4.,  3.,  2.,  3.,  3.,  2.,  1.,  2.,  2.,  1.,  0.,  1.],\n",
      "       [ 5.,  4.,  3.,  2.,  4.,  3.,  2.,  1.,  3.,  2.,  1.,  0.]]))\n",
      "('Distance matrix:\\n', array([[  0.,   5.,   2.,   4.,   1.,   0.,   0.,   6.,   2.,   1.,   1.,\n",
      "          1.],\n",
      "       [  5.,   0.,   3.,   0.,   2.,   2.,   2.,   0.,   4.,   5.,   0.,\n",
      "          0.],\n",
      "       [  2.,   3.,   0.,   0.,   0.,   0.,   0.,   5.,   5.,   2.,   2.,\n",
      "          2.],\n",
      "       [  4.,   0.,   0.,   0.,   5.,   2.,   2.,  10.,   0.,   0.,   5.,\n",
      "          5.],\n",
      "       [  1.,   2.,   0.,   5.,   0.,  10.,   0.,   0.,   0.,   5.,   1.,\n",
      "          1.],\n",
      "       [  0.,   2.,   0.,   2.,  10.,   0.,   5.,   1.,   1.,   5.,   4.,\n",
      "          0.],\n",
      "       [  0.,   2.,   0.,   2.,   0.,   5.,   0.,  10.,   5.,   2.,   3.,\n",
      "          3.],\n",
      "       [  6.,   0.,   5.,  10.,   0.,   1.,  10.,   0.,   0.,   0.,   5.,\n",
      "          0.],\n",
      "       [  2.,   4.,   5.,   0.,   0.,   1.,   5.,   0.,   0.,   0.,  10.,\n",
      "         10.],\n",
      "       [  1.,   5.,   2.,   0.,   5.,   5.,   2.,   0.,   0.,   0.,   5.,\n",
      "          0.],\n",
      "       [  1.,   0.,   2.,   5.,   1.,   4.,   3.,   5.,  10.,   5.,   0.,\n",
      "          2.],\n",
      "       [  1.,   0.,   2.,   5.,   1.,   0.,   3.,   0.,  10.,   0.,   2.,\n",
      "          0.]]))\n"
     ]
    }
   ],
   "source": [
    "qap_instance_file = urllib.urlopen(QAP_INSTANCE_URL)\n",
    "\n",
    "line = qap_instance_file.readline()\n",
    "n = int(line.decode()[:-1].split()[0])\n",
    "print('Problem size: %d' % n)\n",
    "print(line.decode())\n",
    "\n",
    "A = np.empty((n, n))\n",
    "qap_instance_file.readline()\n",
    "for i in range(n):\n",
    "    line = qap_instance_file.readline()\n",
    "    A[i, :] = list(map(int, line.decode()[:-1].split()))\n",
    "print('Flow matrix:\\n', A)\n",
    "\n",
    "B = np.empty((n, n))\n",
    "qap_instance_file.readline()\n",
    "for i in range(n):\n",
    "    line = qap_instance_file.readline()\n",
    "    B[i, :] = list(map(int, line.decode()[:-1].split()))\n",
    "print('Distance matrix:\\n', B)"
   ]
  },
  {
   "cell_type": "markdown",
   "metadata": {},
   "source": [
    "## Objective function"
   ]
  },
  {
   "cell_type": "code",
   "execution_count": 5,
   "metadata": {
    "collapsed": true
   },
   "outputs": [],
   "source": [
    "def qap_objective_function(p):\n",
    "    s = 0.0\n",
    "    for i in range(n):\n",
    "        s += (A[i, :] * B[p[i], p]).sum()\n",
    "    return s"
   ]
  },
  {
   "cell_type": "code",
   "execution_count": 6,
   "metadata": {
    "scrolled": false
   },
   "outputs": [
    {
     "name": "stdout",
     "output_type": "stream",
     "text": [
      "(578.0, [11, 6, 8, 2, 3, 7, 10, 0, 4, 5, 9, 1])\n"
     ]
    }
   ],
   "source": [
    "p = [11, 6, 8, 2, 3, 7, 10, 0, 4, 5, 9, 1]\n",
    "print(qap_objective_function(p), p)"
   ]
  },
  {
   "cell_type": "markdown",
   "metadata": {},
   "source": [
    "## Random Sampling"
   ]
  },
  {
   "cell_type": "code",
   "execution_count": null,
   "metadata": {
    "scrolled": true
   },
   "outputs": [],
   "source": [
    "t0 = time.time()\n",
    "\n",
    "T = 2500000\n",
    "\n",
    "permutations = np.empty((T, n), dtype=np.int64)\n",
    "costs = np.zeros(T)\n",
    "for i in range(T):\n",
    "    permutations[i, :] = np.random.permutation(n)\n",
    "    costs[i] = qap_objective_function(permutations[i, :])\n",
    "\n",
    "print(time.time() - t0)\n",
    "\n",
    "p = permutations[costs.argmin(), :]\n",
    "print(qap_objective_function(p), p)"
   ]
  },
  {
   "cell_type": "code",
   "execution_count": null,
   "metadata": {
    "collapsed": true
   },
   "outputs": [],
   "source": [
    "plt.figure()\n",
    "plt.hist(costs, bins=100)\n",
    "plt.show()\n",
    "\n",
    "print(costs.mean(), costs.std())"
   ]
  },
  {
   "cell_type": "markdown",
   "metadata": {},
   "source": [
    "## Simulated Annealing"
   ]
  },
  {
   "cell_type": "code",
   "execution_count": 7,
   "metadata": {
    "collapsed": true
   },
   "outputs": [],
   "source": [
    "def random_neighbor(p, radius):\n",
    "    q = p.copy()\n",
    "    for r in range(radius):\n",
    "        i, j = np.random.choice(n, 2, replace=False)\n",
    "        k = q[i]\n",
    "        q[i] = q[j]\n",
    "        q[j] = k\n",
    "    return q"
   ]
  },
  {
   "cell_type": "code",
   "execution_count": 8,
   "metadata": {},
   "outputs": [
    {
     "data": {
      "application/vnd.jupyter.widget-view+json": {
       "model_id": "920058a127f94a2c9353d7cdfdcf82e2"
      }
     },
     "metadata": {},
     "output_type": "display_data"
    }
   ],
   "source": [
    "T = 10000\n",
    "I = 1000\n",
    "radius = 4\n",
    "alpha = 2.00\n",
    "\n",
    "costs_in_iterations = np.zeros(I)\n",
    "for i in log_progress(range(I), every=1):\n",
    "    t0 = time.time()\n",
    "    p = np.random.permutation(n)\n",
    "    p_cost = qap_objective_function(p)\n",
    "    costs = np.zeros(T)\n",
    "    for t in range(T):\n",
    "        q = random_neighbor(p, radius)\n",
    "        q_cost = qap_objective_function(q)\n",
    "        if(q_cost < p_cost):\n",
    "            p, p_cost = q, q_cost\n",
    "        elif((q_cost - p_cost) < alpha * np.exp(t/T)):\n",
    "            p, p_cost = q, q_cost\n",
    "        costs[t] = p_cost\n",
    "    costs_in_iterations[i] = costs.min()\n",
    "    #print(i, time.time() - t0, costs_in_iterations[i])\n",
    "    "
   ]
  },
  {
   "cell_type": "code",
   "execution_count": 9,
   "metadata": {},
   "outputs": [
    {
     "data": {
      "image/png": "[encoded data removed]",
      "text/plain": [
       "<matplotlib.figure.Figure at 0x7fbeceae3690>"
      ]
     },
     "metadata": {},
     "output_type": "display_data"
    }
   ],
   "source": [
    "plt.figure()\n",
    "plt.plot(costs)\n",
    "plt.show()"
   ]
  },
  {
   "cell_type": "code",
   "execution_count": 15,
   "metadata": {},
   "outputs": [
    {
     "data": {
      "image/png": "[encoded data removed]",
      "text/plain": [
       "<matplotlib.figure.Figure at 0x7fbec0f4c110>"
      ]
     },
     "metadata": {},
     "output_type": "display_data"
    }
   ],
   "source": [
    "plt.figure(figsize=(10,10))\n",
    "plt.hist(costs_in_iterations, bins=30)\n",
    "plt.show()"
   ]
  }
 ],
 "metadata": {
  "kernelspec": {
   "display_name": "Python 2",
   "language": "python",
   "name": "python2"
  },
  "language_info": {
   "codemirror_mode": {
    "name": "ipython",
    "version": 2
   },
   "file_extension": ".py",
   "mimetype": "text/x-python",
   "name": "python",
   "nbconvert_exporter": "python",
   "pygments_lexer": "ipython2",
   "version": "2.7.13"
  }
 },
 "nbformat": 4,
 "nbformat_minor": 2
}
